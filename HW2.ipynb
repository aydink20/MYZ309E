{
 "cells": [
  {
   "cell_type": "code",
   "execution_count": 2,
   "id": "826e5d25-cd68-499d-90b1-892ad4ce9271",
   "metadata": {},
   "outputs": [],
   "source": [
    "import pandas as pd\n",
    "import polars as pl\n",
    "import duckdb as db\n",
    "import numpy as np\n",
    "import scipy.stats as st\n",
    "\n",
    "from ucimlrepo import fetch_ucirepo \n",
    "from sklearn.datasets import load_digits\n",
    "from sklearn.preprocessing import StandardScaler\n",
    "from sklearn.cluster import KMeans, AgglomerativeClustering, DBSCAN\n",
    "from scipy.cluster.hierarchy import linkage, dendrogram\n",
    "from sklearn.neighbors import NearestNeighbors, KNeighborsClassifier\n",
    "from sklearn.model_selection import cross_val_score, StratifiedKFold, cross_val_predict, train_test_split\n",
    "from sklearn.pipeline import make_pipeline\n",
    "from sklearn.linear_model import LogisticRegression, LinearRegression\n",
    "from sklearn.svm import SVC\n",
    "from sklearn.metrics import adjusted_rand_score, silhouette_score, normalized_mutual_info_score, rand_score, adjusted_mutual_info_score, classification_report\n",
    "from sklearn.metrics import accuracy_score, precision_score, recall_score, f1_score, confusion_matrix, ConfusionMatrixDisplay, roc_auc_score, mean_squared_error, mean_absolute_error\n",
    "from sklearn.decomposition import PCA\n",
    "from imblearn.over_sampling import SMOTE\n",
    "from imblearn.under_sampling import RandomUnderSampler\n",
    "from sklearn.ensemble import RandomForestClassifier\n",
    "from xgboost import XGBClassifier\n",
    "from scipy.spatial.distance import pdist, squareform\n",
    "\n",
    "import os\n",
    "import xml.etree.ElementTree as ET\n",
    "from tqdm import tqdm\n",
    "\n",
    "import time\n",
    "import matplotlib.pyplot as plt\n",
    "import seaborn as sns\n",
    "\n",
    "from urllib.request import urlopen\n",
    "import xmltodict\n",
    "\n",
    "from itertools import combinations\n",
    "from collections import Counter\n"
   ]
  },
  {
   "cell_type": "markdown",
   "id": "4f3badb0-d064-443d-b1f4-5dd56dccda8d",
   "metadata": {},
   "source": [
    "# HW2\n",
    "\n",
    "Overall rules:\n",
    "\n",
    "- Do not split your answers into separate files. All answers must be in a single jupyter notebook. \n",
    "- Refrain from downloading and loading data from a local file unless specifically specified. Obtain all required remote data using the appropriate API.\n",
    "- Refrain from cleaning data by hand on a spreadsheet. All cleaning must be done programmatically, with each step explained. This is so that I can replicate the procedure deterministically.\n",
    "- Refrain from using code comments to explain what has been done. Document your steps by writing appropriate markdown cells in your notebook.\n",
    "- Avoid duplicating code by copying and pasting it from one cell to another. If copying and pasting is necessary, develop a suitable function for the task at hand and call that function.\n",
    "- When providing parameters to a function, never use global variables. Instead, always pass parameters explicitly and always make use of local variables.\n",
    "- Document your use of LLM models (ChatGPT, Claude, Code Pilot etc). Either take screenshots of your steps and include them with this notebook, or give me a full log (both questions and answers) in a markdown file named HW2-LLM-LOG.md.\n",
    "\n",
    "Failure to adhere to these guidelines will result in a 15-point deduction for each infraction."
   ]
  },
  {
   "cell_type": "markdown",
   "id": "5f538312-ab4b-4dee-9df4-6cc5a58c205d",
   "metadata": {},
   "source": [
    "## Atabey's Notes\n",
    "\n",
    "- Q1: The analysis part looks ok. However, I can't see where you record the time. Did you do it by hand? Also, there is an issue of \"confidence intervals\". The values you calculate are single. Are you sure about their accuracy? 80\n",
    "- Q2: Looks good. But you should get the full picture: accuracy, recall, precision, and F1-score. 100\n",
    "- Q3: Very good. It would been nicer if you also plotted chi-square results over the years. 100\n",
    "- Q4: You are repeating code here. You didn't have to pull the data for everytime you did an analysis. Lazy. Otherwise looks good. 80\n",
    "\n",
    "Overall: 90"
   ]
  },
  {
   "cell_type": "markdown",
   "id": "108d844b-5480-44f1-a9e2-e1476e1726c7",
   "metadata": {},
   "source": [
    "## Q1\n",
    "\n",
    "For this question we are going to use [RT-IoT2022](https://archive.ics.uci.edu/dataset/942/rt-iot2022) dataset from [UCI](https://archive.ics.uci.edu/). We have seen several clustering algorithms, and also some measures of quality for clusters in the lectures. Use all you have learned and compare the clustering algorithms we have learnt using the quality measures we have seen in the class.  You must write a detailed comparison analysis to evaluate which model behaves better based on the results you will obtain. One part of your analysis should also include how much time it takes to train and run the models."
   ]
  },
  {
   "cell_type": "code",
   "execution_count": 2,
   "id": "513739a2-d088-4016-ad97-98831cd7d640",
   "metadata": {},
   "outputs": [],
   "source": [
    "rt_iot2022 = fetch_ucirepo(id=942) \n",
    "  \n",
    "X = rt_iot2022.data.features \n",
    "y = rt_iot2022.data.targets \n",
    "\n",
    "features_encoded = pd.get_dummies(X)\n",
    "\n",
    "X_all = features_encoded\n",
    "y_all = y.squeeze()\n",
    "\n",
    "scaler = StandardScaler()\n",
    "X_scaled = scaler.fit_transform(X_all)"
   ]
  },
  {
   "cell_type": "code",
   "execution_count": 3,
   "id": "9e0d0ddc",
   "metadata": {},
   "outputs": [],
   "source": [
    "def degerlendirme(labels, y_all, X_scaled):\n",
    "    ri = rand_score(y_all, labels)\n",
    "    silhouette = silhouette_score(X_scaled, labels)\n",
    "    mi = adjusted_mutual_info_score(y_all, labels)\n",
    "\n",
    "    print(f\"Rand Index: {ri:.4f}\")\n",
    "    print(f\"Silhouette Score: {silhouette:.4f}\")\n",
    "    print(f\"Mutual Information: {mi:.4f}\")\n",
    "    "
   ]
  },
  {
   "cell_type": "code",
   "execution_count": 4,
   "id": "54efcbce",
   "metadata": {},
   "outputs": [
    {
     "name": "stdout",
     "output_type": "stream",
     "text": [
      "KMeans\n",
      "Rand Index: 0.7037\n",
      "Silhouette Score: 0.4400\n",
      "Mutual Information: 0.5417\n"
     ]
    }
   ],
   "source": [
    "kmeans = KMeans(n_clusters=len(y_all.unique()), random_state=42)\n",
    "labels_km = kmeans.fit_predict(X_scaled)\n",
    "\n",
    "print(\"KMeans\")\n",
    "degerlendirme(labels_km, y_all, X_scaled)"
   ]
  },
  {
   "cell_type": "code",
   "execution_count": 5,
   "id": "d02938c3",
   "metadata": {},
   "outputs": [
    {
     "name": "stdout",
     "output_type": "stream",
     "text": [
      "Hierarchical\n",
      "Rand Index: 0.6019\n",
      "Silhouette Score: 0.9686\n",
      "Mutual Information: 0.0009\n"
     ]
    }
   ],
   "source": [
    "agg = AgglomerativeClustering(n_clusters=len(y_all.unique()), linkage='single')\n",
    "labels_hier = agg.fit_predict(X_scaled)\n",
    "\n",
    "print(\"Hierarchical\")\n",
    "degerlendirme(labels_hier, y_all, X_scaled)"
   ]
  },
  {
   "cell_type": "code",
   "execution_count": 7,
   "id": "e89b766e",
   "metadata": {},
   "outputs": [
    {
     "name": "stdout",
     "output_type": "stream",
     "text": [
      "DBScan\n",
      "Rand Index: 0.6801\n",
      "Silhouette Score: 0.6391\n",
      "Mutual Information: 0.6499\n"
     ]
    }
   ],
   "source": [
    "dbscan = DBSCAN(eps=1.5, min_samples=6)\n",
    "labels_db = dbscan.fit_predict(X_scaled)\n",
    "\n",
    "print(\"DBScan\")\n",
    "degerlendirme(labels_db, y_all, X_scaled)"
   ]
  },
  {
   "cell_type": "markdown",
   "id": "e3d0130f",
   "metadata": {},
   "source": [
    "Bu veri seti bir makine öğrenmesi uygulaması setidir ve içeriğinde ağ saldırıları vardır. Veri setinde ağ trafiği ile ilgili bilgiler vardır ve target sütununda yani Attack_Type sütununda ise bu trafik sonucunda gerçekleşen eylemin normal bir eylem mi olduğu yoksa bir saldırı mı olduğu, eğer saldırı ise hangi tür olduğuna dair bilgiler vardır. \n",
    "\n",
    "Soruda bizden derste görülen kümeleme algoritmalarının kullanılması isteniyor. Bu algoritmalar KMeans, Hierarchical ve DBSCAN algoritmalarıdır. \n",
    "KMeans algoritması verileri belirli sayıda kümelere ayırır ve her kümenin merkezini bulur. Daha sonrasında ise diğer veri noktaları kendisine en yakın olan merkez noktasına göre kümelenir. \n",
    "Hierarchical algoritmasında veriler hep birlikte bir kümeden başlar ve daha sonrasında özelliklerine göre farklı kümelere ayrılırlar ya da birleştirilirler.\n",
    "DBSCAN algoritmasında ise veri noktalarının yoğun olduğu bölgeler küme olarak tanımlanır. \n",
    "\n",
    "Veri setimizde bu algoritmaları kullanarak çalıştığımızda ise yukarıdaki gibi sonuçlar elde ettik. \n",
    " Soruda istendiği gibi derste öğrenilen ölçüm yöntemleri olan Rand Index, Silhouette Score ve Mutual Information yöntemlerini kullandım.\n",
    "Bu yöntemlerden Rand Index bizim yaptığımız tahminlere göre oluşturulan kümelerin, gerçek değerlerle karşılaştırarak ne kadar doğru tahmin ettiğimizi ölçer.\n",
    "Silhouette Score yöntemi bir kümedeki veri noktasının, aynı kümedeki diğer veri noktalarıyla ne kadar benzer özelliklerde olduğunu ölçer ve bunun sonucunu verir.\n",
    "Mutual Information yöntemi ise bizim yaptığımız tahminlere göre oluşturulan kümelerin, gerçek değerlerle ne kadar uyumlu olduğunu gösterir.\n",
    "\n",
    "Algoritmalarımızın doğruluk değerleri aşağıdaki gibidir:\n",
    "\n",
    "| Performans                | KMeans       |Hierarchical |DBSCAN|\n",
    "|---------------------------|--------------|-------------|------|\n",
    "| Rand Index                | 0.7037       |0.6019       |0.6801|\n",
    "| Silhouette Score          | 0.4400       |0.9686       |0.6391|\n",
    "| Mutual Information        | 0.5417       |0.0009       |0.6499|\n",
    "\n",
    "Algoritmalar neredeyse benzer sonuçlar verdi ancak Hierarchical metodunun Mutual Information ölçümünün çok düşük çıkması bu metodu kullanmamamıza sebep oldu. Bu metodun Silhouette Score'unun çok iyi olması yani aynı kümedeki veri noktalarının birbirine çok benzer olması bu metodu öne çıkarırken diğer ölçüm yönteminin kötü sonuç vermesi bu metodu elememize sebep oldu. Diğer iki algoritma karşılaştırıldığında ise DBSCAN algoritması daha iyi sonuçlar verdi. Bu yüzden tercih sebebi olabilir ancak tercih edeceğimiz algoritmanın çalışma sürelerini de dikkate almamız bizim için daha faydalı olur. Algoritmaların çalışma süreleri ise aşağıdaki gibidir.\n",
    "\n",
    "| Algoritma             | Süre   |\n",
    "|-----------------------|------  |\n",
    "| KMeans                | 3 dakika 40 saniye|\n",
    "| Hierarchical          | 21 dakika 8 saniye|\n",
    "| DBSCAN                | 45 dakika 17 saniye|\n",
    "\n",
    "Bu tabloya göre KMeans ile DBSCAN arasında yaklaşık 15 katlık bir fark bulunmakta ve KMeans daha hızlı çalışmaktadır. Burada önemli olan zamanın mı yoksa performansın mı bizim için daha önemli olduğudur. \n",
    "\n",
    "Süreler arasında ciddi farklar olmasından dolayı ben KMeans algoritmasını kullanmayı tercih ettim. \n"
   ]
  },
  {
   "cell_type": "markdown",
   "id": "609199c5-60dc-4e69-99ba-64233917f60a",
   "metadata": {},
   "source": [
    "## Q2\n",
    "\n",
    "For this question we are going to use MNIST digits dataset. We have analyzed 3 classification algorithms so far. These are\n",
    "\n",
    "1. K-NN\n",
    "2. SVM\n",
    "3. Logistric Regression\n",
    "\n",
    "Use these algorithms to obtain 3 classification models on the dataset. Then use an appropriate cross-validation scheme to test the quality of the models and compare. You must write a detailed comparison analysis to evaluate which model behaves better based on the results you will obtain. One part of your analysis should also include how much time it takes to train and run the models."
   ]
  },
  {
   "cell_type": "code",
   "execution_count": 9,
   "id": "d2bc2571",
   "metadata": {},
   "outputs": [
    {
     "name": "stdout",
     "output_type": "stream",
     "text": [
      "⏱ K-NN için zaman ölçümü başlatıldı...\n",
      "\n"
     ]
    },
    {
     "data": {
      "image/png": "[encoded data removed]",
      "text/plain": [
       "<Figure size 640x480 with 2 Axes>"
      ]
     },
     "metadata": {},
     "output_type": "display_data"
    },
    {
     "name": "stdout",
     "output_type": "stream",
     "text": [
      "⏱ SVM için zaman ölçümü başlatıldı...\n",
      "\n"
     ]
    },
    {
     "data": {
      "image/png": "[encoded data removed]",
      "text/plain": [
       "<Figure size 640x480 with 2 Axes>"
      ]
     },
     "metadata": {},
     "output_type": "display_data"
    },
    {
     "name": "stdout",
     "output_type": "stream",
     "text": [
      "⏱ Logistic Regression için zaman ölçümü başlatıldı...\n",
      "\n"
     ]
    },
    {
     "data": {
      "image/png": "[encoded data removed]",
      "text/plain": [
       "<Figure size 640x480 with 2 Axes>"
      ]
     },
     "metadata": {},
     "output_type": "display_data"
    },
    {
     "name": "stdout",
     "output_type": "stream",
     "text": [
      "📊 Genel Performans ve Zaman Metrikleri:\n",
      "                     Accuracy  Precision (macro)  Recall (macro)  \\\n",
      "K-NN                   0.9755             0.9756          0.9754   \n",
      "SVM                    0.9839             0.9841          0.9838   \n",
      "Logistic Regression    0.9711             0.9711          0.9711   \n",
      "\n",
      "                     F1-score (macro)  F1-score (micro)  Time (s)  \n",
      "K-NN                           0.9754            0.9755    2.3367  \n",
      "SVM                            0.9839            0.9839    0.2663  \n",
      "Logistic Regression            0.9711            0.9711    0.1038  \n"
     ]
    }
   ],
   "source": [
    "digits = load_digits()\n",
    "X = digits.data\n",
    "y = digits.target\n",
    "\n",
    "models = {\n",
    "    \"K-NN\": make_pipeline(StandardScaler(), KNeighborsClassifier(n_neighbors=3)),\n",
    "    \"SVM\": make_pipeline(StandardScaler(), SVC(kernel='rbf', gamma='scale')),\n",
    "    \"Logistic Regression\": make_pipeline(StandardScaler(), LogisticRegression(max_iter=1000, solver='lbfgs', multi_class='multinomial'))\n",
    "}\n",
    "\n",
    "cv = StratifiedKFold(n_splits=5, shuffle=True, random_state=42)\n",
    "\n",
    "results = {}\n",
    "\n",
    "for name, model in models.items():\n",
    "    print(f\"⏱ {name} için zaman ölçümü başlatıldı...\\n\")\n",
    "    \n",
    "    start_time = time.time()\n",
    "    y_pred = cross_val_predict(model, X, y, cv=cv, n_jobs=-1)\n",
    "    end_time = time.time()\n",
    "    \n",
    "    elapsed_time = end_time - start_time\n",
    "\n",
    "    acc = accuracy_score(y, y_pred)\n",
    "    prec = precision_score(y, y_pred, average='macro')\n",
    "    rec = recall_score(y, y_pred, average='macro')\n",
    "    f1_macro = f1_score(y, y_pred, average='macro')\n",
    "    f1_micro = f1_score(y, y_pred, average='micro')\n",
    "    \n",
    "    cm = confusion_matrix(y, y_pred)\n",
    "    disp = ConfusionMatrixDisplay(confusion_matrix=cm)\n",
    "    disp.plot(cmap='Blues')\n",
    "    plt.title(f\"{name} - Confusion Matrix\")\n",
    "    plt.show()\n",
    "    \n",
    "    results[name] = {\n",
    "        \"Accuracy\": acc,\n",
    "        \"Precision (macro)\": prec,\n",
    "        \"Recall (macro)\": rec,\n",
    "        \"F1-score (macro)\": f1_macro,\n",
    "        \"F1-score (micro)\": f1_micro,\n",
    "        \"Time (s)\": elapsed_time\n",
    "    }\n",
    "\n",
    "df_results = pd.DataFrame(results).T\n",
    "print(\"📊 Genel Performans ve Zaman Metrikleri:\")\n",
    "print(df_results.round(4))\n"
   ]
  },
  {
   "cell_type": "markdown",
   "id": "b38e0088",
   "metadata": {},
   "source": [
    "MNIST basamak seti makine öğrenimi ve görüntü işleme alanlarında kullanılan bir veri setidir. Bu veri seti daha çok antrenman yapmak amacıyla kullanılır. Görece daha basit bir veri setidir. \n",
    "Algoritmalarımızda ise K-NN yöntemi en yakın komşusuna bakarak bir veri noktasını kümelemeye ve sınıflandırmaya çalışır. Sınıflandırılacak verimiz en çok uyuştuğu diğer noktalarla aynı kümeye konularak sınıflandırılır. K değerimiz en yakın kaç komşuya bakılacağını belirtir.\n",
    "SVM yöntemi ise farklı sınıflardaki örnekler arasındaki mesafeyi maksimize eder ve bu mesafe arasında bir karar noktası bulur. Daha sonrasında ise bu noktaya göre sınıfları tanımlar. \n",
    "Lojistik regresyon yönteminde ise diğer bilgilerden yola çıkarak bir veri noktasının hangi sınıfta olduğu tahmin edilir ve buna göre veri noktaları sınıflara ayrılır. \n",
    "\n",
    "Veri setimizde bu yöntemleri kullanarak çalıştığımızda ise yukarıdaki gibi sonuçlar elde ettik. \n",
    "Modellerimiz arasından en başarılı tahmin oranına ulaşan model SVM modeli oldu. SVM modeli diğer modellere göre Accuracy metriğinde yani yapılan doğru tahminlerin tüm tahminlere oranında, Precision metriğinde yani modelin bir sınıfa koyduğu verilere ne kadar güvenebileceğimizi belirleyen metrikte, Recall metriğinde yani modelin gerçek değerin ne kadarını doğru olarak tahmin ettiğini gösteren metrikte, F1-Score metriğinde yani Precision ile Recall değerlerinden yola çıkarak bir hesaplama yapan metrikte öndedir. Bütün metriklerde 1 değerine yakın olma durumu daha iyi performans anlamına gelir. Confusion Matrix'te de çakışan(Örn. satırda 1, sütunda 1) hücre sayısı modelimizin bize başarısını gösterir. Burada da SVM rakiplerine göre daha yüksek bir çakışma oranı elde etmiştir.\n",
    "Bu durum bize SVM modelinin diğer modellere göre daha iyi sonuçlar verdiğini gösterir.\n",
    "\n",
    "Ancak durumu bir de zaman bakımından ele almak gerekir. Bizim veri setimiz görece basit bir set olduğu için çok kısa sürelerde sonuç alabiliyoruz. Daha karışık ve büyük veri setine denk geldiğimizde ise süre bizim açımızdan önemli hale gelebilir. Modellerin sürelerine baktığımızda K-NN modeli 2.33 saniyede, SVM modeli 0.24 saniyede, Lojistik Regresyon modeli ise 0.11 saniyede çalışmıştır. \n",
    "\n",
    "Bu veri seti üzerinde SVM ile K-NN karşılaştırdığımızda SVM hem performans olarak hem de süre olarak daha uyumlu bir modeldir. SVM ile Lojistik Regresyon'u karşılaştırdığımızda ise aralarında yaklaşık 2 katlık bir zaman farkı vardır. SVM daha iyi performans vermesine rağmen daha yavaş çalışmıştır. Burada önemli olan zamanın mı yoksa performansın mı bizim için daha önemli olduğudur. \n",
    "\n",
    "Süreler çok kısa olduğu için ben SVM modelini kullanmayı tercih etiim."
   ]
  },
  {
   "cell_type": "markdown",
   "id": "c6bc88ba-3184-4c4e-9460-680a7a2a0b5f",
   "metadata": {},
   "source": [
    "## Q3\n",
    "\n",
    "For this homework, we are going to use the [data warehouse](https://clerk.house.gov/Votes/) for the [US House of Representatives](https://www.house.gov/). The data server has data on each vote going back to 1990. The voting information is in XML format. For example, the code below pulls the data for the 71st roll call from 2024 Congress."
   ]
  },
  {
   "cell_type": "markdown",
   "id": "9acef5ba-af62-41d0-88d1-264c41ed3cca",
   "metadata": {},
   "source": [
    "1. Obtain all of the data from 2010 to 2024 (inclusive, all years, all calls). You may save a local copy, and push the local copy onto your github repo.\n",
    "2. Construct a similarity measure function for a pair of legislators. The function should return the number of times both legislators voted the same way and the number of sessions both attended.\n",
    "3. Find the legislators whose voting records are the most similar to: (i) Matt Gaetz and (ii) Alexandria Ocasio-Cortez.\n",
    "4. Using this similarity measure, do a hiearchical clustering for legislators, and analyze the result.\n",
    "5. Construct a function that takes a year as an input and returns a 2x2 table couting the number of times Democrats voted with other Democrats, the number of times Democrats voted with Republicans, the number of times Republicans voted with Democrats, and the number of times Republicans voted with other Republicans in that year.\n",
    "6. Analyze the table for each year since 2010 using the $\\chi^2$-statistic, and evaluate the polarization in the House of representatives. In this context, explain what a lower or higher $\\chi^2$-metric means. Explain whether the polarization in the House of representatives increased or decreased over the years?"
   ]
  },
  {
   "cell_type": "code",
   "execution_count": null,
   "id": "9bd567f0",
   "metadata": {},
   "outputs": [],
   "source": [
    "def get_voting_data(year, roll_call):\n",
    "    url = f'https://clerk.house.gov/evs/{year}/roll{roll_call:03}.xml'\n",
    "    try:\n",
    "        with urlopen(url) as response:\n",
    "            raw = xmltodict.parse(response.read())\n",
    "            return raw\n",
    "    except Exception as e:\n",
    "        print(f\"Hata: {url} adresinden veri alınamadı. Hata mesajı: {e}\")\n",
    "        return None\n",
    "\n",
    "def save_data_to_file(data, year, roll_call):\n",
    "    if data:\n",
    "        filename = f'data/{year}/roll{roll_call:03}.xml'\n",
    "        os.makedirs(os.path.dirname(filename), exist_ok=True)\n",
    "        with open(filename, 'w', encoding='utf-8') as f:\n",
    "            f.write(xmltodict.unparse(data, pretty=True))\n",
    "        print(f\"{filename} dosyasına kaydedildi.\")\n",
    "\n",
    "years = range(2010, 2025)\n",
    "for year in years:\n",
    "    roll_call = 1\n",
    "    while True:\n",
    "        data = get_voting_data(year, roll_call)\n",
    "        if data is None:\n",
    "            break\n",
    "        save_data_to_file(data, year, roll_call)\n",
    "        roll_call += 1\n",
    "\n",
    "print(\"Veri toplama ve kaydetme işlemi tamamlandı.\")"
   ]
  },
  {
   "cell_type": "code",
   "execution_count": 51,
   "id": "395a4048",
   "metadata": {},
   "outputs": [
    {
     "name": "stderr",
     "output_type": "stream",
     "text": [
      "XML Dosyaları İşleniyor: 100%|██████████| 9207/9207 [00:43<00:00, 211.14it/s]\n"
     ]
    },
    {
     "data": {
      "application/vnd.microsoft.datawrangler.viewer.v0+json": {
       "columns": [
        {
         "name": "index",
         "rawType": "int64",
         "type": "integer"
        },
        {
         "name": "id",
         "rawType": "object",
         "type": "string"
        },
        {
         "name": "name",
         "rawType": "object",
         "type": "string"
        },
        {
         "name": "party",
         "rawType": "object",
         "type": "string"
        },
        {
         "name": "state",
         "rawType": "object",
         "type": "string"
        },
        {
         "name": "vote",
         "rawType": "object",
         "type": "string"
        },
        {
         "name": "rollcall",
         "rawType": "object",
         "type": "string"
        },
        {
         "name": "vote_date",
         "rawType": "object",
         "type": "string"
        }
       ],
       "conversionMethod": "pd.DataFrame",
       "ref": "0e319188-07cd-4a70-854f-67380457cab4",
       "rows": [
        [
         "0",
         "A000014",
         "Abercrombie",
         "D",
         "HI",
         "Not Voting",
         "1",
         "12-Jan-2010"
        ],
        [
         "1",
         "A000022",
         "Ackerman",
         "D",
         "NY",
         "Present",
         "1",
         "12-Jan-2010"
        ],
        [
         "2",
         "A000055",
         "Aderholt",
         "R",
         "AL",
         "Not Voting",
         "1",
         "12-Jan-2010"
        ],
        [
         "3",
         "A000364",
         "Adler (NJ)",
         "D",
         "NJ",
         "Present",
         "1",
         "12-Jan-2010"
        ],
        [
         "4",
         "A000358",
         "Akin",
         "R",
         "MO",
         "Not Voting",
         "1",
         "12-Jan-2010"
        ],
        [
         "5",
         "A000361",
         "Alexander",
         "R",
         "LA",
         "Present",
         "1",
         "12-Jan-2010"
        ],
        [
         "6",
         "A000362",
         "Altmire",
         "D",
         "PA",
         "Present",
         "1",
         "12-Jan-2010"
        ],
        [
         "7",
         "A000210",
         "Andrews",
         "D",
         "NJ",
         "Present",
         "1",
         "12-Jan-2010"
        ],
        [
         "8",
         "A000363",
         "Arcuri",
         "D",
         "NY",
         "Present",
         "1",
         "12-Jan-2010"
        ],
        [
         "9",
         "A000365",
         "Austria",
         "R",
         "OH",
         "Present",
         "1",
         "12-Jan-2010"
        ],
        [
         "10",
         "B001234",
         "Baca",
         "D",
         "CA",
         "Present",
         "1",
         "12-Jan-2010"
        ],
        [
         "11",
         "B001256",
         "Bachmann",
         "R",
         "MN",
         "Present",
         "1",
         "12-Jan-2010"
        ],
        [
         "12",
         "B000013",
         "Bachus",
         "R",
         "AL",
         "Present",
         "1",
         "12-Jan-2010"
        ],
        [
         "13",
         "B001229",
         "Baird",
         "D",
         "WA",
         "Present",
         "1",
         "12-Jan-2010"
        ],
        [
         "14",
         "B001230",
         "Baldwin",
         "D",
         "WI",
         "Present",
         "1",
         "12-Jan-2010"
        ],
        [
         "15",
         "B001239",
         "Barrett (SC)",
         "R",
         "SC",
         "Not Voting",
         "1",
         "12-Jan-2010"
        ],
        [
         "16",
         "B001252",
         "Barrow",
         "D",
         "GA",
         "Present",
         "1",
         "12-Jan-2010"
        ],
        [
         "17",
         "B000208",
         "Bartlett",
         "R",
         "MD",
         "Present",
         "1",
         "12-Jan-2010"
        ],
        [
         "18",
         "B000213",
         "Barton (TX)",
         "R",
         "TX",
         "Present",
         "1",
         "12-Jan-2010"
        ],
        [
         "19",
         "B001253",
         "Bean",
         "D",
         "IL",
         "Present",
         "1",
         "12-Jan-2010"
        ],
        [
         "20",
         "B000287",
         "Becerra",
         "D",
         "CA",
         "Present",
         "1",
         "12-Jan-2010"
        ],
        [
         "21",
         "B001231",
         "Berkley",
         "D",
         "NV",
         "Present",
         "1",
         "12-Jan-2010"
        ],
        [
         "22",
         "B000410",
         "Berman",
         "D",
         "CA",
         "Not Voting",
         "1",
         "12-Jan-2010"
        ],
        [
         "23",
         "B000420",
         "Berry",
         "D",
         "AR",
         "Not Voting",
         "1",
         "12-Jan-2010"
        ],
        [
         "24",
         "B001232",
         "Biggert",
         "R",
         "IL",
         "Present",
         "1",
         "12-Jan-2010"
        ],
        [
         "25",
         "B000461",
         "Bilbray",
         "R",
         "CA",
         "Not Voting",
         "1",
         "12-Jan-2010"
        ],
        [
         "26",
         "B001257",
         "Bilirakis",
         "R",
         "FL",
         "Present",
         "1",
         "12-Jan-2010"
        ],
        [
         "27",
         "B000490",
         "Bishop (GA)",
         "D",
         "GA",
         "Present",
         "1",
         "12-Jan-2010"
        ],
        [
         "28",
         "B001242",
         "Bishop (NY)",
         "D",
         "NY",
         "Present",
         "1",
         "12-Jan-2010"
        ],
        [
         "29",
         "B001250",
         "Bishop (UT)",
         "R",
         "UT",
         "Present",
         "1",
         "12-Jan-2010"
        ],
        [
         "30",
         "B001243",
         "Blackburn",
         "R",
         "TN",
         "Present",
         "1",
         "12-Jan-2010"
        ],
        [
         "31",
         "B000574",
         "Blumenauer",
         "D",
         "OR",
         "Present",
         "1",
         "12-Jan-2010"
        ],
        [
         "32",
         "B000575",
         "Blunt",
         "R",
         "MO",
         "Present",
         "1",
         "12-Jan-2010"
        ],
        [
         "33",
         "B001263",
         "Boccieri",
         "D",
         "OH",
         "Present",
         "1",
         "12-Jan-2010"
        ],
        [
         "34",
         "B000589",
         "Boehner",
         "R",
         "OH",
         "Present",
         "1",
         "12-Jan-2010"
        ],
        [
         "35",
         "B001244",
         "Bonner",
         "R",
         "AL",
         "Present",
         "1",
         "12-Jan-2010"
        ],
        [
         "36",
         "B001228",
         "Bono Mack",
         "R",
         "CA",
         "Not Voting",
         "1",
         "12-Jan-2010"
        ],
        [
         "37",
         "B001236",
         "Boozman",
         "R",
         "AR",
         "Present",
         "1",
         "12-Jan-2010"
        ],
        [
         "38",
         "B001254",
         "Boren",
         "D",
         "OK",
         "Present",
         "1",
         "12-Jan-2010"
        ],
        [
         "39",
         "B000652",
         "Boswell",
         "D",
         "IA",
         "Present",
         "1",
         "12-Jan-2010"
        ],
        [
         "40",
         "B000657",
         "Boucher",
         "D",
         "VA",
         "Present",
         "1",
         "12-Jan-2010"
        ],
        [
         "41",
         "B001255",
         "Boustany",
         "R",
         "LA",
         "Not Voting",
         "1",
         "12-Jan-2010"
        ],
        [
         "42",
         "B000716",
         "Boyd",
         "D",
         "FL",
         "Present",
         "1",
         "12-Jan-2010"
        ],
        [
         "43",
         "B001227",
         "Brady (PA)",
         "D",
         "PA",
         "Not Voting",
         "1",
         "12-Jan-2010"
        ],
        [
         "44",
         "B000755",
         "Brady (TX)",
         "R",
         "TX",
         "Present",
         "1",
         "12-Jan-2010"
        ],
        [
         "45",
         "B001259",
         "Braley (IA)",
         "D",
         "IA",
         "Not Voting",
         "1",
         "12-Jan-2010"
        ],
        [
         "46",
         "B001264",
         "Bright",
         "D",
         "AL",
         "Present",
         "1",
         "12-Jan-2010"
        ],
        [
         "47",
         "B001262",
         "Broun (GA)",
         "R",
         "GA",
         "Present",
         "1",
         "12-Jan-2010"
        ],
        [
         "48",
         "B001235",
         "Brown (SC)",
         "R",
         "SC",
         "Present",
         "1",
         "12-Jan-2010"
        ],
        [
         "49",
         "B000911",
         "Brown, Corrine",
         "D",
         "FL",
         "Present",
         "1",
         "12-Jan-2010"
        ]
       ],
       "shape": {
        "columns": 7,
        "rows": 3977317
       }
      },
      "text/html": [
       "<div>\n",
       "<style scoped>\n",
       "    .dataframe tbody tr th:only-of-type {\n",
       "        vertical-align: middle;\n",
       "    }\n",
       "\n",
       "    .dataframe tbody tr th {\n",
       "        vertical-align: top;\n",
       "    }\n",
       "\n",
       "    .dataframe thead th {\n",
       "        text-align: right;\n",
       "    }\n",
       "</style>\n",
       "<table border=\"1\" class=\"dataframe\">\n",
       "  <thead>\n",
       "    <tr style=\"text-align: right;\">\n",
       "      <th></th>\n",
       "      <th>id</th>\n",
       "      <th>name</th>\n",
       "      <th>party</th>\n",
       "      <th>state</th>\n",
       "      <th>vote</th>\n",
       "      <th>rollcall</th>\n",
       "      <th>vote_date</th>\n",
       "    </tr>\n",
       "  </thead>\n",
       "  <tbody>\n",
       "    <tr>\n",
       "      <th>0</th>\n",
       "      <td>A000014</td>\n",
       "      <td>Abercrombie</td>\n",
       "      <td>D</td>\n",
       "      <td>HI</td>\n",
       "      <td>Not Voting</td>\n",
       "      <td>1</td>\n",
       "      <td>12-Jan-2010</td>\n",
       "    </tr>\n",
       "    <tr>\n",
       "      <th>1</th>\n",
       "      <td>A000022</td>\n",
       "      <td>Ackerman</td>\n",
       "      <td>D</td>\n",
       "      <td>NY</td>\n",
       "      <td>Present</td>\n",
       "      <td>1</td>\n",
       "      <td>12-Jan-2010</td>\n",
       "    </tr>\n",
       "    <tr>\n",
       "      <th>2</th>\n",
       "      <td>A000055</td>\n",
       "      <td>Aderholt</td>\n",
       "      <td>R</td>\n",
       "      <td>AL</td>\n",
       "      <td>Not Voting</td>\n",
       "      <td>1</td>\n",
       "      <td>12-Jan-2010</td>\n",
       "    </tr>\n",
       "    <tr>\n",
       "      <th>3</th>\n",
       "      <td>A000364</td>\n",
       "      <td>Adler (NJ)</td>\n",
       "      <td>D</td>\n",
       "      <td>NJ</td>\n",
       "      <td>Present</td>\n",
       "      <td>1</td>\n",
       "      <td>12-Jan-2010</td>\n",
       "    </tr>\n",
       "    <tr>\n",
       "      <th>4</th>\n",
       "      <td>A000358</td>\n",
       "      <td>Akin</td>\n",
       "      <td>R</td>\n",
       "      <td>MO</td>\n",
       "      <td>Not Voting</td>\n",
       "      <td>1</td>\n",
       "      <td>12-Jan-2010</td>\n",
       "    </tr>\n",
       "    <tr>\n",
       "      <th>...</th>\n",
       "      <td>...</td>\n",
       "      <td>...</td>\n",
       "      <td>...</td>\n",
       "      <td>...</td>\n",
       "      <td>...</td>\n",
       "      <td>...</td>\n",
       "      <td>...</td>\n",
       "    </tr>\n",
       "    <tr>\n",
       "      <th>3977312</th>\n",
       "      <td>W000795</td>\n",
       "      <td>Wilson (SC)</td>\n",
       "      <td>R</td>\n",
       "      <td>SC</td>\n",
       "      <td>Yea</td>\n",
       "      <td>517</td>\n",
       "      <td>20-Dec-2024</td>\n",
       "    </tr>\n",
       "    <tr>\n",
       "      <th>3977313</th>\n",
       "      <td>W000804</td>\n",
       "      <td>Wittman</td>\n",
       "      <td>R</td>\n",
       "      <td>VA</td>\n",
       "      <td>Yea</td>\n",
       "      <td>517</td>\n",
       "      <td>20-Dec-2024</td>\n",
       "    </tr>\n",
       "    <tr>\n",
       "      <th>3977314</th>\n",
       "      <td>W000809</td>\n",
       "      <td>Womack</td>\n",
       "      <td>R</td>\n",
       "      <td>AR</td>\n",
       "      <td>Yea</td>\n",
       "      <td>517</td>\n",
       "      <td>20-Dec-2024</td>\n",
       "    </tr>\n",
       "    <tr>\n",
       "      <th>3977315</th>\n",
       "      <td>Y000067</td>\n",
       "      <td>Yakym</td>\n",
       "      <td>R</td>\n",
       "      <td>IN</td>\n",
       "      <td>Yea</td>\n",
       "      <td>517</td>\n",
       "      <td>20-Dec-2024</td>\n",
       "    </tr>\n",
       "    <tr>\n",
       "      <th>3977316</th>\n",
       "      <td>Z000018</td>\n",
       "      <td>Zinke</td>\n",
       "      <td>R</td>\n",
       "      <td>MT</td>\n",
       "      <td>Yea</td>\n",
       "      <td>517</td>\n",
       "      <td>20-Dec-2024</td>\n",
       "    </tr>\n",
       "  </tbody>\n",
       "</table>\n",
       "<p>3977317 rows × 7 columns</p>\n",
       "</div>"
      ],
      "text/plain": [
       "              id         name party state        vote rollcall    vote_date\n",
       "0        A000014  Abercrombie     D    HI  Not Voting        1  12-Jan-2010\n",
       "1        A000022     Ackerman     D    NY     Present        1  12-Jan-2010\n",
       "2        A000055     Aderholt     R    AL  Not Voting        1  12-Jan-2010\n",
       "3        A000364   Adler (NJ)     D    NJ     Present        1  12-Jan-2010\n",
       "4        A000358         Akin     R    MO  Not Voting        1  12-Jan-2010\n",
       "...          ...          ...   ...   ...         ...      ...          ...\n",
       "3977312  W000795  Wilson (SC)     R    SC         Yea      517  20-Dec-2024\n",
       "3977313  W000804      Wittman     R    VA         Yea      517  20-Dec-2024\n",
       "3977314  W000809       Womack     R    AR         Yea      517  20-Dec-2024\n",
       "3977315  Y000067        Yakym     R    IN         Yea      517  20-Dec-2024\n",
       "3977316  Z000018        Zinke     R    MT         Yea      517  20-Dec-2024\n",
       "\n",
       "[3977317 rows x 7 columns]"
      ]
     },
     "execution_count": 51,
     "metadata": {},
     "output_type": "execute_result"
    }
   ],
   "source": [
    "def parse_vote_xml(file_path):\n",
    "    try:\n",
    "        tree = ET.parse(file_path)\n",
    "        root = tree.getroot()\n",
    "\n",
    "        metadata = root.find(\"vote-metadata\")\n",
    "        rollcall_num = metadata.find(\"rollcall-num\").text\n",
    "        vote_question = metadata.find(\"vote-question\").text\n",
    "        vote_result = metadata.find(\"vote-result\").text\n",
    "        vote_date = metadata.find(\"action-date\").text\n",
    "        vote_time = metadata.find(\"action-time\").text\n",
    "        vote_type = metadata.find(\"vote-type\").text\n",
    "        vote_desc = metadata.find(\"vote-desc\").text\n",
    "\n",
    "        vote_data = []\n",
    "        for vote in root.find(\"vote-data\").findall(\"recorded-vote\"):\n",
    "            legislator = vote.find(\"legislator\")\n",
    "            vote_choice = vote.find(\"vote\").text\n",
    "\n",
    "            vote_data.append({\n",
    "                \"id\": legislator.attrib.get(\"name-id\"),\n",
    "                \"name\": legislator.text,\n",
    "                \"party\": legislator.attrib.get(\"party\"),\n",
    "                \"state\": legislator.attrib.get(\"state\"),\n",
    "                \"vote\": vote_choice,\n",
    "                \"rollcall\": rollcall_num,\n",
    "                \"vote_date\": vote_date,\n",
    "            })\n",
    "\n",
    "        return vote_data\n",
    "    except Exception as e:\n",
    "        print(f\"Error parsing {file_path}: {e}\")\n",
    "        return []\n",
    "\n",
    "base_dir = r\"C:\\Class\\MYZ309E\\HW2\\data\"\n",
    "\n",
    "all_xml_files = []\n",
    "for year_folder in os.listdir(base_dir):\n",
    "    year_path = os.path.join(base_dir, year_folder)\n",
    "    if os.path.isdir(year_path):\n",
    "        for file in os.listdir(year_path):\n",
    "            if file.endswith(\".xml\"):\n",
    "                all_xml_files.append(os.path.join(year_path, file))\n",
    "\n",
    "all_votes = []\n",
    "for xml_file in tqdm(all_xml_files, desc=\"XML Dosyaları İşleniyor\"):\n",
    "    vote_records = parse_vote_xml(xml_file)\n",
    "    all_votes.extend(vote_records)\n",
    "\n",
    "df_all_votes = pd.DataFrame(all_votes)\n",
    "\n",
    "df_all_votes\n"
   ]
  },
  {
   "cell_type": "code",
   "execution_count": 52,
   "id": "8909cb35",
   "metadata": {},
   "outputs": [],
   "source": [
    "valid_votes = ['Yea', 'Aye', 'Nay', 'No']\n",
    "df_filtered_votes = df_all_votes[df_all_votes[\"vote\"].isin(valid_votes)]\n",
    "\n",
    "valid_party= ['D', 'R']\n",
    "df_filtered_votes = df_filtered_votes[df_filtered_votes[\"party\"].isin(valid_party)]\n",
    "\n",
    "name_mapping = (\n",
    "    df_filtered_votes.groupby(\"id\")[\"name\"]\n",
    "    .agg(lambda x: x.value_counts().idxmax())\n",
    "    .to_dict()\n",
    ")\n",
    "df_filtered_votes[\"name\"] = df_filtered_votes[\"id\"].map(name_mapping)\n",
    "\n",
    "df_filtered_votes[\"year\"] = df_filtered_votes[\"vote_date\"].apply(lambda x: x.split(\"-\")[2])\n",
    "df_filtered_votes[\"year_rollcall\"] = df_filtered_votes[\"year\"] + \"_\" + df_filtered_votes[\"rollcall\"].astype(str)\n",
    "\n",
    "vote_matrix = df_filtered_votes.pivot_table(\n",
    "    index=\"year_rollcall\", columns=\"id\", values=\"vote\", aggfunc=\"first\"\n",
    ")\n"
   ]
  },
  {
   "cell_type": "code",
   "execution_count": 53,
   "id": "b16fadd6",
   "metadata": {},
   "outputs": [
    {
     "data": {
      "text/plain": [
       "(np.int64(542), np.int64(569))"
      ]
     },
     "execution_count": 53,
     "metadata": {},
     "output_type": "execute_result"
    }
   ],
   "source": [
    "def similarity(legislator_id1, legislator_id2):\n",
    "    v1 = vote_matrix[legislator_id1]\n",
    "    v2 = vote_matrix[legislator_id2]\n",
    "\n",
    "    mask = v1.notna() & v2.notna()\n",
    "    common_sessions_count = mask.sum()\n",
    "\n",
    "    same_votes_count = (v1[mask] == v2[mask]).sum()\n",
    "\n",
    "    return same_votes_count, common_sessions_count\n",
    "\n",
    "def similarity_ratio(legislator_id1, legislator_id2):\n",
    "    same, total = similarity(legislator_id1, legislator_id2)\n",
    "    return same / total if total > 0 else None\n",
    "\n",
    "def similarity_score(id1, id2):\n",
    "    v1 = vote_matrix[id1]\n",
    "    v2 = vote_matrix[id2]\n",
    "    mask = v1.notna() & v2.notna()\n",
    "    total = mask.sum()\n",
    "    same = (v1[mask] == v2[mask]).sum()\n",
    "    return same / total if total > 0 else 0\n",
    "\n",
    "def find_most_similar(target_id, top_n=5):\n",
    "    scores = []\n",
    "    for other_id in vote_matrix.columns:\n",
    "        if other_id != target_id:\n",
    "            score = similarity_score(target_id, other_id)\n",
    "            scores.append((other_id, score))\n",
    "    sorted_scores = sorted(scores, key=lambda x: x[1], reverse=True)\n",
    "    return sorted_scores[:top_n]\n",
    "\n",
    "similarity(\"I000023\", \"A000055\")"
   ]
  },
  {
   "cell_type": "code",
   "execution_count": 54,
   "id": "ca7b5eeb",
   "metadata": {},
   "outputs": [
    {
     "data": {
      "text/plain": [
       "np.float64(0.9525483304042179)"
      ]
     },
     "execution_count": 54,
     "metadata": {},
     "output_type": "execute_result"
    }
   ],
   "source": [
    "similarity_ratio(\"I000023\", \"A000055\")"
   ]
  },
  {
   "cell_type": "code",
   "execution_count": 55,
   "id": "13e0e5b4",
   "metadata": {},
   "outputs": [
    {
     "name": "stdout",
     "output_type": "stream",
     "text": [
      "Matt Gaetz ID: ['G000578']\n",
      "AOC ID: ['O000172']\n",
      "\n",
      "Matt Gaetz'e en çok benzeyenler:\n",
      "Mulvaney (M001182): 100.00%\n",
      "Price (GA) (P000591): 100.00%\n",
      "Chaffetz (C001076): 94.56%\n",
      "DeSantis (D000621): 94.28%\n",
      "Franks (AZ) (F000448): 94.19%\n",
      "\n",
      "Alexandria Ocasio-Cortez'e en çok benzeyenler:\n",
      "Lee (PA) (L000602): 99.15%\n",
      "Ramirez (R000617): 98.96%\n",
      "Bowman (B001223): 98.69%\n",
      "Pressley (P000617): 98.48%\n",
      "Lee Carter (L000605): 98.36%\n"
     ]
    }
   ],
   "source": [
    "gaetz_id = df_filtered_votes[df_filtered_votes[\"name\"].str.contains(\"Gaetz\", case=False, na=False)][\"id\"].unique()\n",
    "aoc_id = df_filtered_votes[df_filtered_votes[\"name\"].str.contains(\"Ocasio\", case=False, na=False)][\"id\"].unique()\n",
    "\n",
    "print(\"Matt Gaetz ID:\", gaetz_id)\n",
    "print(\"AOC ID:\", aoc_id)\n",
    "id_to_name = df_filtered_votes.set_index(\"id\")[\"name\"].to_dict()\n",
    "\n",
    "gaetz_top_matches = find_most_similar(gaetz_id[0])\n",
    "print(\"\\nMatt Gaetz'e en çok benzeyenler:\")\n",
    "for uid, score in gaetz_top_matches:\n",
    "    print(f\"{id_to_name.get(uid, 'Bilinmeyen')} ({uid}): {score:.2%}\")\n",
    "\n",
    "aoc_top_matches = find_most_similar(aoc_id[0])\n",
    "print(\"\\nAlexandria Ocasio-Cortez'e en çok benzeyenler:\")\n",
    "for uid, score in aoc_top_matches:\n",
    "    print(f\"{id_to_name.get(uid, 'Bilinmeyen')} ({uid}): {score:.2%}\")\n",
    "\n"
   ]
  },
  {
   "cell_type": "code",
   "execution_count": null,
   "id": "9b694913",
   "metadata": {},
   "outputs": [],
   "source": [
    "def fill_missing_votes_by_party_fast(X, df_filtered_votes):\n",
    "    from collections import defaultdict\n",
    "\n",
    "    id_to_party = df_filtered_votes.drop_duplicates(\"id\").set_index(\"id\")[\"party\"].to_dict()\n",
    "\n",
    "    party_majority_votes = defaultdict(dict)\n",
    "\n",
    "    for col in X.columns:\n",
    "        for party in [\"D\", \"R\"]:\n",
    "            party_votes = X.loc[X[\"party\"] == party, col]\n",
    "            vote_counts = party_votes.value_counts()\n",
    "            if not vote_counts.empty:\n",
    "                party_majority_votes[col][party] = vote_counts.idxmax()\n",
    "\n",
    "    filled_X = X.copy()\n",
    "    for row_id in filled_X.index:\n",
    "        party = id_to_party.get(row_id)\n",
    "        if not party:\n",
    "            continue\n",
    "        for col in X.columns:\n",
    "            if pd.isna(filled_X.at[row_id, col]):\n",
    "                majority_vote = party_majority_votes.get(col, {}).get(party, None)\n",
    "                if majority_vote is not None:\n",
    "                    filled_X.at[row_id, col] = majority_vote\n",
    "\n",
    "    return filled_X.drop(columns=[\"party\"])\n"
   ]
  },
  {
   "cell_type": "code",
   "execution_count": null,
   "id": "10a58064",
   "metadata": {},
   "outputs": [
    {
     "data": {
      "image/png": "[encoded data removed]",
      "text/plain": [
       "<Figure size 1600x800 with 1 Axes>"
      ]
     },
     "metadata": {},
     "output_type": "display_data"
    }
   ],
   "source": [
    "vote_numeric = vote_matrix.replace({'Yea': 2, 'Aye': 2, 'Nay': 1, 'No': 1})\n",
    "X = vote_numeric.T\n",
    "X[\"party\"] = X.index.map(lambda x: id_to_party.get(x))\n",
    "\n",
    "X_filled = fill_missing_votes_by_party_fast(X, df_filtered_votes)\n",
    "\n",
    "linkage_matrix = linkage(X_filled, method='ward')\n",
    "\n",
    "plt.figure(figsize=(16, 8))\n",
    "dendrogram(linkage_matrix, labels=X_filled.index.to_list(), leaf_rotation=90)\n",
    "plt.title(\"Temsilciler Arası Oylama Benzerliği (Hiyerarşik Kümeleme)\")\n",
    "plt.xlabel(\"Temsilci ID\")\n",
    "plt.ylabel(\"Benzerlik (Ward Uzaklığı)\")\n",
    "plt.tight_layout()\n",
    "plt.show()"
   ]
  },
  {
   "cell_type": "markdown",
   "id": "4593921f",
   "metadata": {},
   "source": [
    "En temel seviyede milletvekillerini kapsayan büyük bir küme var. Bu küme benzer oy verme verilerine sahip olan milletvekillerini gösteriyor. Milletvekilleri muhtemelen en baştan aynı kümelere dahil oldular ve bu yüzden büyük bir sayıyla aynı kümeye girdiler. Daha sonrasında ise konular özelleşti ve aşağıya doğru inildikçe ise küme sayısı artıyor ve oy verme davranışları özelleşmeye başlıyor."
   ]
  },
  {
   "cell_type": "code",
   "execution_count": null,
   "id": "f957773b",
   "metadata": {},
   "outputs": [],
   "source": [
    "def party_agreement_ratio_table(year, df_filtered_votes):\n",
    "    df_year = df_filtered_votes[df_filtered_votes[\"year\"] == str(year)]\n",
    "\n",
    "    vote_matrix = df_year.pivot_table(\n",
    "        index=\"year_rollcall\", columns=\"id\", values=\"vote\", aggfunc=\"first\"\n",
    "    )\n",
    "\n",
    "    vote_numeric = vote_matrix.replace({'Yea': 1, 'Aye': 1, 'Nay': 0, 'No': 0})\n",
    "    vote_numeric = vote_numeric.dropna(how=\"all\", axis=0)\n",
    "\n",
    "    id_to_party = df_year.drop_duplicates(\"id\").set_index(\"id\")[\"party\"].to_dict()\n",
    "\n",
    "    agreement_counts = {\n",
    "        (\"D\", \"D\"): [0, 0],\n",
    "        (\"D\", \"R\"): [0, 0],\n",
    "        (\"R\", \"D\"): [0, 0],\n",
    "        (\"R\", \"R\"): [0, 0]\n",
    "    }\n",
    "\n",
    "    for _, row in vote_numeric.iterrows():\n",
    "        valid_votes = row.dropna()\n",
    "        for id1, vote1 in valid_votes.items():\n",
    "            party1 = id_to_party.get(id1)\n",
    "            if party1 not in [\"D\", \"R\"]:\n",
    "                continue\n",
    "            for id2, vote2 in valid_votes.items():\n",
    "                party2 = id_to_party.get(id2)\n",
    "                if party2 not in [\"D\", \"R\"] or id1 >= id2:\n",
    "                    continue\n",
    "                agreement_counts[(party1, party2)][1] += 1\n",
    "                agreement_counts[(party2, party1)][1] += 1\n",
    "                if vote1 == vote2:\n",
    "                    agreement_counts[(party1, party2)][0] += 1\n",
    "                    agreement_counts[(party2, party1)][0] += 1\n",
    "\n",
    "    result_table = pd.DataFrame(\n",
    "        {\n",
    "            \"Democrat\": [\n",
    "                agreement_counts[(\"D\", \"D\")][0] / agreement_counts[(\"D\", \"D\")][1] if agreement_counts[(\"D\", \"D\")][1] > 0 else 0,\n",
    "                agreement_counts[(\"R\", \"D\")][0] / agreement_counts[(\"R\", \"D\")][1] if agreement_counts[(\"R\", \"D\")][1] > 0 else 0,\n",
    "            ],\n",
    "            \"Republican\": [\n",
    "                agreement_counts[(\"D\", \"R\")][0] / agreement_counts[(\"D\", \"R\")][1] if agreement_counts[(\"D\", \"R\")][1] > 0 else 0,\n",
    "                agreement_counts[(\"R\", \"R\")][0] / agreement_counts[(\"R\", \"R\")][1] if agreement_counts[(\"R\", \"R\")][1] > 0 else 0,\n",
    "            ]\n",
    "        },\n",
    "        index=[\"Democrat\", \"Republican\"]\n",
    "    )\n",
    "\n",
    "    return (result_table * 100).round(2)\n"
   ]
  },
  {
   "cell_type": "code",
   "execution_count": 68,
   "id": "d8f113b5",
   "metadata": {},
   "outputs": [
    {
     "name": "stderr",
     "output_type": "stream",
     "text": [
      "C:\\Users\\gs_ke\\AppData\\Local\\Temp\\ipykernel_7256\\3337380425.py:8: FutureWarning: Downcasting behavior in `replace` is deprecated and will be removed in a future version. To retain the old behavior, explicitly call `result.infer_objects(copy=False)`. To opt-in to the future behavior, set `pd.set_option('future.no_silent_downcasting', True)`\n",
      "  vote_numeric = vote_matrix.replace({'Yea': 1, 'Aye': 1, 'Nay': 0, 'No': 0})\n"
     ]
    },
    {
     "data": {
      "application/vnd.microsoft.datawrangler.viewer.v0+json": {
       "columns": [
        {
         "name": "index",
         "rawType": "object",
         "type": "string"
        },
        {
         "name": "Democrat",
         "rawType": "float64",
         "type": "float"
        },
        {
         "name": "Republican",
         "rawType": "float64",
         "type": "float"
        }
       ],
       "conversionMethod": "pd.DataFrame",
       "ref": "83366fd7-2a6a-45e9-875d-0aef32347618",
       "rows": [
        [
         "Democrat",
         "93.71",
         "61.53"
        ],
        [
         "Republican",
         "61.53",
         "92.98"
        ]
       ],
       "shape": {
        "columns": 2,
        "rows": 2
       }
      },
      "text/html": [
       "<div>\n",
       "<style scoped>\n",
       "    .dataframe tbody tr th:only-of-type {\n",
       "        vertical-align: middle;\n",
       "    }\n",
       "\n",
       "    .dataframe tbody tr th {\n",
       "        vertical-align: top;\n",
       "    }\n",
       "\n",
       "    .dataframe thead th {\n",
       "        text-align: right;\n",
       "    }\n",
       "</style>\n",
       "<table border=\"1\" class=\"dataframe\">\n",
       "  <thead>\n",
       "    <tr style=\"text-align: right;\">\n",
       "      <th></th>\n",
       "      <th>Democrat</th>\n",
       "      <th>Republican</th>\n",
       "    </tr>\n",
       "  </thead>\n",
       "  <tbody>\n",
       "    <tr>\n",
       "      <th>Democrat</th>\n",
       "      <td>93.71</td>\n",
       "      <td>61.53</td>\n",
       "    </tr>\n",
       "    <tr>\n",
       "      <th>Republican</th>\n",
       "      <td>61.53</td>\n",
       "      <td>92.98</td>\n",
       "    </tr>\n",
       "  </tbody>\n",
       "</table>\n",
       "</div>"
      ],
      "text/plain": [
       "            Democrat  Republican\n",
       "Democrat       93.71       61.53\n",
       "Republican     61.53       92.98"
      ]
     },
     "execution_count": 68,
     "metadata": {},
     "output_type": "execute_result"
    }
   ],
   "source": [
    "party_agreement_ratio_table(2010, df_filtered_votes)\n"
   ]
  },
  {
   "cell_type": "code",
   "execution_count": 70,
   "id": "479e3800",
   "metadata": {},
   "outputs": [
    {
     "name": "stderr",
     "output_type": "stream",
     "text": [
      "C:\\Users\\gs_ke\\AppData\\Local\\Temp\\ipykernel_7256\\3337380425.py:8: FutureWarning: Downcasting behavior in `replace` is deprecated and will be removed in a future version. To retain the old behavior, explicitly call `result.infer_objects(copy=False)`. To opt-in to the future behavior, set `pd.set_option('future.no_silent_downcasting', True)`\n",
      "  vote_numeric = vote_matrix.replace({'Yea': 1, 'Aye': 1, 'Nay': 0, 'No': 0})\n"
     ]
    },
    {
     "data": {
      "application/vnd.microsoft.datawrangler.viewer.v0+json": {
       "columns": [
        {
         "name": "index",
         "rawType": "object",
         "type": "string"
        },
        {
         "name": "Democrat",
         "rawType": "float64",
         "type": "float"
        },
        {
         "name": "Republican",
         "rawType": "float64",
         "type": "float"
        }
       ],
       "conversionMethod": "pd.DataFrame",
       "ref": "d42765d6-6046-479e-ba44-dbfbc0c58ad6",
       "rows": [
        [
         "Democrat",
         "84.7",
         "29.0"
        ],
        [
         "Republican",
         "29.0",
         "88.33"
        ]
       ],
       "shape": {
        "columns": 2,
        "rows": 2
       }
      },
      "text/html": [
       "<div>\n",
       "<style scoped>\n",
       "    .dataframe tbody tr th:only-of-type {\n",
       "        vertical-align: middle;\n",
       "    }\n",
       "\n",
       "    .dataframe tbody tr th {\n",
       "        vertical-align: top;\n",
       "    }\n",
       "\n",
       "    .dataframe thead th {\n",
       "        text-align: right;\n",
       "    }\n",
       "</style>\n",
       "<table border=\"1\" class=\"dataframe\">\n",
       "  <thead>\n",
       "    <tr style=\"text-align: right;\">\n",
       "      <th></th>\n",
       "      <th>Democrat</th>\n",
       "      <th>Republican</th>\n",
       "    </tr>\n",
       "  </thead>\n",
       "  <tbody>\n",
       "    <tr>\n",
       "      <th>Democrat</th>\n",
       "      <td>84.7</td>\n",
       "      <td>29.00</td>\n",
       "    </tr>\n",
       "    <tr>\n",
       "      <th>Republican</th>\n",
       "      <td>29.0</td>\n",
       "      <td>88.33</td>\n",
       "    </tr>\n",
       "  </tbody>\n",
       "</table>\n",
       "</div>"
      ],
      "text/plain": [
       "            Democrat  Republican\n",
       "Democrat        84.7       29.00\n",
       "Republican      29.0       88.33"
      ]
     },
     "execution_count": 70,
     "metadata": {},
     "output_type": "execute_result"
    }
   ],
   "source": [
    "party_agreement_ratio_table(2011, df_filtered_votes)"
   ]
  },
  {
   "cell_type": "code",
   "execution_count": 71,
   "id": "3a5a22b7",
   "metadata": {},
   "outputs": [
    {
     "name": "stderr",
     "output_type": "stream",
     "text": [
      "C:\\Users\\gs_ke\\AppData\\Local\\Temp\\ipykernel_7256\\3337380425.py:8: FutureWarning: Downcasting behavior in `replace` is deprecated and will be removed in a future version. To retain the old behavior, explicitly call `result.infer_objects(copy=False)`. To opt-in to the future behavior, set `pd.set_option('future.no_silent_downcasting', True)`\n",
      "  vote_numeric = vote_matrix.replace({'Yea': 1, 'Aye': 1, 'Nay': 0, 'No': 0})\n"
     ]
    },
    {
     "data": {
      "application/vnd.microsoft.datawrangler.viewer.v0+json": {
       "columns": [
        {
         "name": "index",
         "rawType": "object",
         "type": "string"
        },
        {
         "name": "Democrat",
         "rawType": "float64",
         "type": "float"
        },
        {
         "name": "Republican",
         "rawType": "float64",
         "type": "float"
        }
       ],
       "conversionMethod": "pd.DataFrame",
       "ref": "e99864e4-58f9-41ce-9379-2f1026d86895",
       "rows": [
        [
         "Democrat",
         "85.89",
         "32.26"
        ],
        [
         "Republican",
         "32.26",
         "89.09"
        ]
       ],
       "shape": {
        "columns": 2,
        "rows": 2
       }
      },
      "text/html": [
       "<div>\n",
       "<style scoped>\n",
       "    .dataframe tbody tr th:only-of-type {\n",
       "        vertical-align: middle;\n",
       "    }\n",
       "\n",
       "    .dataframe tbody tr th {\n",
       "        vertical-align: top;\n",
       "    }\n",
       "\n",
       "    .dataframe thead th {\n",
       "        text-align: right;\n",
       "    }\n",
       "</style>\n",
       "<table border=\"1\" class=\"dataframe\">\n",
       "  <thead>\n",
       "    <tr style=\"text-align: right;\">\n",
       "      <th></th>\n",
       "      <th>Democrat</th>\n",
       "      <th>Republican</th>\n",
       "    </tr>\n",
       "  </thead>\n",
       "  <tbody>\n",
       "    <tr>\n",
       "      <th>Democrat</th>\n",
       "      <td>85.89</td>\n",
       "      <td>32.26</td>\n",
       "    </tr>\n",
       "    <tr>\n",
       "      <th>Republican</th>\n",
       "      <td>32.26</td>\n",
       "      <td>89.09</td>\n",
       "    </tr>\n",
       "  </tbody>\n",
       "</table>\n",
       "</div>"
      ],
      "text/plain": [
       "            Democrat  Republican\n",
       "Democrat       85.89       32.26\n",
       "Republican     32.26       89.09"
      ]
     },
     "execution_count": 71,
     "metadata": {},
     "output_type": "execute_result"
    }
   ],
   "source": [
    "party_agreement_ratio_table(2012, df_filtered_votes)"
   ]
  },
  {
   "cell_type": "code",
   "execution_count": 72,
   "id": "364e57c0",
   "metadata": {},
   "outputs": [
    {
     "name": "stderr",
     "output_type": "stream",
     "text": [
      "C:\\Users\\gs_ke\\AppData\\Local\\Temp\\ipykernel_7256\\3337380425.py:8: FutureWarning: Downcasting behavior in `replace` is deprecated and will be removed in a future version. To retain the old behavior, explicitly call `result.infer_objects(copy=False)`. To opt-in to the future behavior, set `pd.set_option('future.no_silent_downcasting', True)`\n",
      "  vote_numeric = vote_matrix.replace({'Yea': 1, 'Aye': 1, 'Nay': 0, 'No': 0})\n"
     ]
    },
    {
     "data": {
      "application/vnd.microsoft.datawrangler.viewer.v0+json": {
       "columns": [
        {
         "name": "index",
         "rawType": "object",
         "type": "string"
        },
        {
         "name": "Democrat",
         "rawType": "float64",
         "type": "float"
        },
        {
         "name": "Republican",
         "rawType": "float64",
         "type": "float"
        }
       ],
       "conversionMethod": "pd.DataFrame",
       "ref": "fccd367b-76da-4569-8206-f6e61ee5d8a2",
       "rows": [
        [
         "Democrat",
         "86.84",
         "34.17"
        ],
        [
         "Republican",
         "34.17",
         "90.19"
        ]
       ],
       "shape": {
        "columns": 2,
        "rows": 2
       }
      },
      "text/html": [
       "<div>\n",
       "<style scoped>\n",
       "    .dataframe tbody tr th:only-of-type {\n",
       "        vertical-align: middle;\n",
       "    }\n",
       "\n",
       "    .dataframe tbody tr th {\n",
       "        vertical-align: top;\n",
       "    }\n",
       "\n",
       "    .dataframe thead th {\n",
       "        text-align: right;\n",
       "    }\n",
       "</style>\n",
       "<table border=\"1\" class=\"dataframe\">\n",
       "  <thead>\n",
       "    <tr style=\"text-align: right;\">\n",
       "      <th></th>\n",
       "      <th>Democrat</th>\n",
       "      <th>Republican</th>\n",
       "    </tr>\n",
       "  </thead>\n",
       "  <tbody>\n",
       "    <tr>\n",
       "      <th>Democrat</th>\n",
       "      <td>86.84</td>\n",
       "      <td>34.17</td>\n",
       "    </tr>\n",
       "    <tr>\n",
       "      <th>Republican</th>\n",
       "      <td>34.17</td>\n",
       "      <td>90.19</td>\n",
       "    </tr>\n",
       "  </tbody>\n",
       "</table>\n",
       "</div>"
      ],
      "text/plain": [
       "            Democrat  Republican\n",
       "Democrat       86.84       34.17\n",
       "Republican     34.17       90.19"
      ]
     },
     "execution_count": 72,
     "metadata": {},
     "output_type": "execute_result"
    }
   ],
   "source": [
    "party_agreement_ratio_table(2013, df_filtered_votes)"
   ]
  },
  {
   "cell_type": "code",
   "execution_count": 73,
   "id": "5f650983",
   "metadata": {},
   "outputs": [
    {
     "name": "stderr",
     "output_type": "stream",
     "text": [
      "C:\\Users\\gs_ke\\AppData\\Local\\Temp\\ipykernel_7256\\3337380425.py:8: FutureWarning: Downcasting behavior in `replace` is deprecated and will be removed in a future version. To retain the old behavior, explicitly call `result.infer_objects(copy=False)`. To opt-in to the future behavior, set `pd.set_option('future.no_silent_downcasting', True)`\n",
      "  vote_numeric = vote_matrix.replace({'Yea': 1, 'Aye': 1, 'Nay': 0, 'No': 0})\n"
     ]
    },
    {
     "data": {
      "application/vnd.microsoft.datawrangler.viewer.v0+json": {
       "columns": [
        {
         "name": "index",
         "rawType": "object",
         "type": "string"
        },
        {
         "name": "Democrat",
         "rawType": "float64",
         "type": "float"
        },
        {
         "name": "Republican",
         "rawType": "float64",
         "type": "float"
        }
       ],
       "conversionMethod": "pd.DataFrame",
       "ref": "890f7097-b8f3-480b-9033-6f02d17934aa",
       "rows": [
        [
         "Democrat",
         "90.0",
         "30.11"
        ],
        [
         "Republican",
         "30.11",
         "90.66"
        ]
       ],
       "shape": {
        "columns": 2,
        "rows": 2
       }
      },
      "text/html": [
       "<div>\n",
       "<style scoped>\n",
       "    .dataframe tbody tr th:only-of-type {\n",
       "        vertical-align: middle;\n",
       "    }\n",
       "\n",
       "    .dataframe tbody tr th {\n",
       "        vertical-align: top;\n",
       "    }\n",
       "\n",
       "    .dataframe thead th {\n",
       "        text-align: right;\n",
       "    }\n",
       "</style>\n",
       "<table border=\"1\" class=\"dataframe\">\n",
       "  <thead>\n",
       "    <tr style=\"text-align: right;\">\n",
       "      <th></th>\n",
       "      <th>Democrat</th>\n",
       "      <th>Republican</th>\n",
       "    </tr>\n",
       "  </thead>\n",
       "  <tbody>\n",
       "    <tr>\n",
       "      <th>Democrat</th>\n",
       "      <td>90.00</td>\n",
       "      <td>30.11</td>\n",
       "    </tr>\n",
       "    <tr>\n",
       "      <th>Republican</th>\n",
       "      <td>30.11</td>\n",
       "      <td>90.66</td>\n",
       "    </tr>\n",
       "  </tbody>\n",
       "</table>\n",
       "</div>"
      ],
      "text/plain": [
       "            Democrat  Republican\n",
       "Democrat       90.00       30.11\n",
       "Republican     30.11       90.66"
      ]
     },
     "execution_count": 73,
     "metadata": {},
     "output_type": "execute_result"
    }
   ],
   "source": [
    "party_agreement_ratio_table(2014, df_filtered_votes)"
   ]
  },
  {
   "cell_type": "code",
   "execution_count": 74,
   "id": "b1d037d0",
   "metadata": {},
   "outputs": [
    {
     "name": "stderr",
     "output_type": "stream",
     "text": [
      "C:\\Users\\gs_ke\\AppData\\Local\\Temp\\ipykernel_7256\\3337380425.py:8: FutureWarning: Downcasting behavior in `replace` is deprecated and will be removed in a future version. To retain the old behavior, explicitly call `result.infer_objects(copy=False)`. To opt-in to the future behavior, set `pd.set_option('future.no_silent_downcasting', True)`\n",
      "  vote_numeric = vote_matrix.replace({'Yea': 1, 'Aye': 1, 'Nay': 0, 'No': 0})\n"
     ]
    },
    {
     "data": {
      "application/vnd.microsoft.datawrangler.viewer.v0+json": {
       "columns": [
        {
         "name": "index",
         "rawType": "object",
         "type": "string"
        },
        {
         "name": "Democrat",
         "rawType": "float64",
         "type": "float"
        },
        {
         "name": "Republican",
         "rawType": "float64",
         "type": "float"
        }
       ],
       "conversionMethod": "pd.DataFrame",
       "ref": "097cf866-e59a-460e-8cc3-6d6038b4e2b9",
       "rows": [
        [
         "Democrat",
         "91.64",
         "27.76"
        ],
        [
         "Republican",
         "27.76",
         "89.5"
        ]
       ],
       "shape": {
        "columns": 2,
        "rows": 2
       }
      },
      "text/html": [
       "<div>\n",
       "<style scoped>\n",
       "    .dataframe tbody tr th:only-of-type {\n",
       "        vertical-align: middle;\n",
       "    }\n",
       "\n",
       "    .dataframe tbody tr th {\n",
       "        vertical-align: top;\n",
       "    }\n",
       "\n",
       "    .dataframe thead th {\n",
       "        text-align: right;\n",
       "    }\n",
       "</style>\n",
       "<table border=\"1\" class=\"dataframe\">\n",
       "  <thead>\n",
       "    <tr style=\"text-align: right;\">\n",
       "      <th></th>\n",
       "      <th>Democrat</th>\n",
       "      <th>Republican</th>\n",
       "    </tr>\n",
       "  </thead>\n",
       "  <tbody>\n",
       "    <tr>\n",
       "      <th>Democrat</th>\n",
       "      <td>91.64</td>\n",
       "      <td>27.76</td>\n",
       "    </tr>\n",
       "    <tr>\n",
       "      <th>Republican</th>\n",
       "      <td>27.76</td>\n",
       "      <td>89.50</td>\n",
       "    </tr>\n",
       "  </tbody>\n",
       "</table>\n",
       "</div>"
      ],
      "text/plain": [
       "            Democrat  Republican\n",
       "Democrat       91.64       27.76\n",
       "Republican     27.76       89.50"
      ]
     },
     "execution_count": 74,
     "metadata": {},
     "output_type": "execute_result"
    }
   ],
   "source": [
    "party_agreement_ratio_table(2015, df_filtered_votes)"
   ]
  },
  {
   "cell_type": "code",
   "execution_count": 75,
   "id": "5131549f",
   "metadata": {},
   "outputs": [
    {
     "name": "stderr",
     "output_type": "stream",
     "text": [
      "C:\\Users\\gs_ke\\AppData\\Local\\Temp\\ipykernel_7256\\3337380425.py:8: FutureWarning: Downcasting behavior in `replace` is deprecated and will be removed in a future version. To retain the old behavior, explicitly call `result.infer_objects(copy=False)`. To opt-in to the future behavior, set `pd.set_option('future.no_silent_downcasting', True)`\n",
      "  vote_numeric = vote_matrix.replace({'Yea': 1, 'Aye': 1, 'Nay': 0, 'No': 0})\n"
     ]
    },
    {
     "data": {
      "application/vnd.microsoft.datawrangler.viewer.v0+json": {
       "columns": [
        {
         "name": "index",
         "rawType": "object",
         "type": "string"
        },
        {
         "name": "Democrat",
         "rawType": "float64",
         "type": "float"
        },
        {
         "name": "Republican",
         "rawType": "float64",
         "type": "float"
        }
       ],
       "conversionMethod": "pd.DataFrame",
       "ref": "5c0e3d61-ea60-44e4-8f08-7ab10ac5dba6",
       "rows": [
        [
         "Democrat",
         "93.39",
         "28.61"
        ],
        [
         "Republican",
         "28.61",
         "92.88"
        ]
       ],
       "shape": {
        "columns": 2,
        "rows": 2
       }
      },
      "text/html": [
       "<div>\n",
       "<style scoped>\n",
       "    .dataframe tbody tr th:only-of-type {\n",
       "        vertical-align: middle;\n",
       "    }\n",
       "\n",
       "    .dataframe tbody tr th {\n",
       "        vertical-align: top;\n",
       "    }\n",
       "\n",
       "    .dataframe thead th {\n",
       "        text-align: right;\n",
       "    }\n",
       "</style>\n",
       "<table border=\"1\" class=\"dataframe\">\n",
       "  <thead>\n",
       "    <tr style=\"text-align: right;\">\n",
       "      <th></th>\n",
       "      <th>Democrat</th>\n",
       "      <th>Republican</th>\n",
       "    </tr>\n",
       "  </thead>\n",
       "  <tbody>\n",
       "    <tr>\n",
       "      <th>Democrat</th>\n",
       "      <td>93.39</td>\n",
       "      <td>28.61</td>\n",
       "    </tr>\n",
       "    <tr>\n",
       "      <th>Republican</th>\n",
       "      <td>28.61</td>\n",
       "      <td>92.88</td>\n",
       "    </tr>\n",
       "  </tbody>\n",
       "</table>\n",
       "</div>"
      ],
      "text/plain": [
       "            Democrat  Republican\n",
       "Democrat       93.39       28.61\n",
       "Republican     28.61       92.88"
      ]
     },
     "execution_count": 75,
     "metadata": {},
     "output_type": "execute_result"
    }
   ],
   "source": [
    "party_agreement_ratio_table(2016, df_filtered_votes)"
   ]
  },
  {
   "cell_type": "code",
   "execution_count": 76,
   "id": "fae87fe6",
   "metadata": {},
   "outputs": [
    {
     "name": "stderr",
     "output_type": "stream",
     "text": [
      "C:\\Users\\gs_ke\\AppData\\Local\\Temp\\ipykernel_7256\\3337380425.py:8: FutureWarning: Downcasting behavior in `replace` is deprecated and will be removed in a future version. To retain the old behavior, explicitly call `result.infer_objects(copy=False)`. To opt-in to the future behavior, set `pd.set_option('future.no_silent_downcasting', True)`\n",
      "  vote_numeric = vote_matrix.replace({'Yea': 1, 'Aye': 1, 'Nay': 0, 'No': 0})\n"
     ]
    },
    {
     "data": {
      "application/vnd.microsoft.datawrangler.viewer.v0+json": {
       "columns": [
        {
         "name": "index",
         "rawType": "object",
         "type": "string"
        },
        {
         "name": "Democrat",
         "rawType": "float64",
         "type": "float"
        },
        {
         "name": "Republican",
         "rawType": "float64",
         "type": "float"
        }
       ],
       "conversionMethod": "pd.DataFrame",
       "ref": "6630e728-9f2d-47d1-a033-0e89f248a08c",
       "rows": [
        [
         "Democrat",
         "93.35",
         "26.76"
        ],
        [
         "Republican",
         "26.76",
         "92.81"
        ]
       ],
       "shape": {
        "columns": 2,
        "rows": 2
       }
      },
      "text/html": [
       "<div>\n",
       "<style scoped>\n",
       "    .dataframe tbody tr th:only-of-type {\n",
       "        vertical-align: middle;\n",
       "    }\n",
       "\n",
       "    .dataframe tbody tr th {\n",
       "        vertical-align: top;\n",
       "    }\n",
       "\n",
       "    .dataframe thead th {\n",
       "        text-align: right;\n",
       "    }\n",
       "</style>\n",
       "<table border=\"1\" class=\"dataframe\">\n",
       "  <thead>\n",
       "    <tr style=\"text-align: right;\">\n",
       "      <th></th>\n",
       "      <th>Democrat</th>\n",
       "      <th>Republican</th>\n",
       "    </tr>\n",
       "  </thead>\n",
       "  <tbody>\n",
       "    <tr>\n",
       "      <th>Democrat</th>\n",
       "      <td>93.35</td>\n",
       "      <td>26.76</td>\n",
       "    </tr>\n",
       "    <tr>\n",
       "      <th>Republican</th>\n",
       "      <td>26.76</td>\n",
       "      <td>92.81</td>\n",
       "    </tr>\n",
       "  </tbody>\n",
       "</table>\n",
       "</div>"
      ],
      "text/plain": [
       "            Democrat  Republican\n",
       "Democrat       93.35       26.76\n",
       "Republican     26.76       92.81"
      ]
     },
     "execution_count": 76,
     "metadata": {},
     "output_type": "execute_result"
    }
   ],
   "source": [
    "party_agreement_ratio_table(2017, df_filtered_votes)"
   ]
  },
  {
   "cell_type": "code",
   "execution_count": 77,
   "id": "c4167297",
   "metadata": {},
   "outputs": [
    {
     "name": "stderr",
     "output_type": "stream",
     "text": [
      "C:\\Users\\gs_ke\\AppData\\Local\\Temp\\ipykernel_7256\\3337380425.py:8: FutureWarning: Downcasting behavior in `replace` is deprecated and will be removed in a future version. To retain the old behavior, explicitly call `result.infer_objects(copy=False)`. To opt-in to the future behavior, set `pd.set_option('future.no_silent_downcasting', True)`\n",
      "  vote_numeric = vote_matrix.replace({'Yea': 1, 'Aye': 1, 'Nay': 0, 'No': 0})\n"
     ]
    },
    {
     "data": {
      "application/vnd.microsoft.datawrangler.viewer.v0+json": {
       "columns": [
        {
         "name": "index",
         "rawType": "object",
         "type": "string"
        },
        {
         "name": "Democrat",
         "rawType": "float64",
         "type": "float"
        },
        {
         "name": "Republican",
         "rawType": "float64",
         "type": "float"
        }
       ],
       "conversionMethod": "pd.DataFrame",
       "ref": "6e36cde9-47fe-430e-9733-b9d6ac40292c",
       "rows": [
        [
         "Democrat",
         "91.93",
         "42.11"
        ],
        [
         "Republican",
         "42.11",
         "91.93"
        ]
       ],
       "shape": {
        "columns": 2,
        "rows": 2
       }
      },
      "text/html": [
       "<div>\n",
       "<style scoped>\n",
       "    .dataframe tbody tr th:only-of-type {\n",
       "        vertical-align: middle;\n",
       "    }\n",
       "\n",
       "    .dataframe tbody tr th {\n",
       "        vertical-align: top;\n",
       "    }\n",
       "\n",
       "    .dataframe thead th {\n",
       "        text-align: right;\n",
       "    }\n",
       "</style>\n",
       "<table border=\"1\" class=\"dataframe\">\n",
       "  <thead>\n",
       "    <tr style=\"text-align: right;\">\n",
       "      <th></th>\n",
       "      <th>Democrat</th>\n",
       "      <th>Republican</th>\n",
       "    </tr>\n",
       "  </thead>\n",
       "  <tbody>\n",
       "    <tr>\n",
       "      <th>Democrat</th>\n",
       "      <td>91.93</td>\n",
       "      <td>42.11</td>\n",
       "    </tr>\n",
       "    <tr>\n",
       "      <th>Republican</th>\n",
       "      <td>42.11</td>\n",
       "      <td>91.93</td>\n",
       "    </tr>\n",
       "  </tbody>\n",
       "</table>\n",
       "</div>"
      ],
      "text/plain": [
       "            Democrat  Republican\n",
       "Democrat       91.93       42.11\n",
       "Republican     42.11       91.93"
      ]
     },
     "execution_count": 77,
     "metadata": {},
     "output_type": "execute_result"
    }
   ],
   "source": [
    "party_agreement_ratio_table(2018, df_filtered_votes)"
   ]
  },
  {
   "cell_type": "code",
   "execution_count": 78,
   "id": "6603599e",
   "metadata": {},
   "outputs": [
    {
     "name": "stderr",
     "output_type": "stream",
     "text": [
      "C:\\Users\\gs_ke\\AppData\\Local\\Temp\\ipykernel_7256\\3337380425.py:8: FutureWarning: Downcasting behavior in `replace` is deprecated and will be removed in a future version. To retain the old behavior, explicitly call `result.infer_objects(copy=False)`. To opt-in to the future behavior, set `pd.set_option('future.no_silent_downcasting', True)`\n",
      "  vote_numeric = vote_matrix.replace({'Yea': 1, 'Aye': 1, 'Nay': 0, 'No': 0})\n"
     ]
    },
    {
     "data": {
      "application/vnd.microsoft.datawrangler.viewer.v0+json": {
       "columns": [
        {
         "name": "index",
         "rawType": "object",
         "type": "string"
        },
        {
         "name": "Democrat",
         "rawType": "float64",
         "type": "float"
        },
        {
         "name": "Republican",
         "rawType": "float64",
         "type": "float"
        }
       ],
       "conversionMethod": "pd.DataFrame",
       "ref": "11beff44-ecdb-413e-ad87-5526bc622748",
       "rows": [
        [
         "Democrat",
         "96.64",
         "33.91"
        ],
        [
         "Republican",
         "33.91",
         "86.87"
        ]
       ],
       "shape": {
        "columns": 2,
        "rows": 2
       }
      },
      "text/html": [
       "<div>\n",
       "<style scoped>\n",
       "    .dataframe tbody tr th:only-of-type {\n",
       "        vertical-align: middle;\n",
       "    }\n",
       "\n",
       "    .dataframe tbody tr th {\n",
       "        vertical-align: top;\n",
       "    }\n",
       "\n",
       "    .dataframe thead th {\n",
       "        text-align: right;\n",
       "    }\n",
       "</style>\n",
       "<table border=\"1\" class=\"dataframe\">\n",
       "  <thead>\n",
       "    <tr style=\"text-align: right;\">\n",
       "      <th></th>\n",
       "      <th>Democrat</th>\n",
       "      <th>Republican</th>\n",
       "    </tr>\n",
       "  </thead>\n",
       "  <tbody>\n",
       "    <tr>\n",
       "      <th>Democrat</th>\n",
       "      <td>96.64</td>\n",
       "      <td>33.91</td>\n",
       "    </tr>\n",
       "    <tr>\n",
       "      <th>Republican</th>\n",
       "      <td>33.91</td>\n",
       "      <td>86.87</td>\n",
       "    </tr>\n",
       "  </tbody>\n",
       "</table>\n",
       "</div>"
      ],
      "text/plain": [
       "            Democrat  Republican\n",
       "Democrat       96.64       33.91\n",
       "Republican     33.91       86.87"
      ]
     },
     "execution_count": 78,
     "metadata": {},
     "output_type": "execute_result"
    }
   ],
   "source": [
    "party_agreement_ratio_table(2019, df_filtered_votes)"
   ]
  },
  {
   "cell_type": "code",
   "execution_count": 79,
   "id": "f532c7eb",
   "metadata": {},
   "outputs": [
    {
     "name": "stderr",
     "output_type": "stream",
     "text": [
      "C:\\Users\\gs_ke\\AppData\\Local\\Temp\\ipykernel_7256\\3337380425.py:8: FutureWarning: Downcasting behavior in `replace` is deprecated and will be removed in a future version. To retain the old behavior, explicitly call `result.infer_objects(copy=False)`. To opt-in to the future behavior, set `pd.set_option('future.no_silent_downcasting', True)`\n",
      "  vote_numeric = vote_matrix.replace({'Yea': 1, 'Aye': 1, 'Nay': 0, 'No': 0})\n"
     ]
    },
    {
     "data": {
      "application/vnd.microsoft.datawrangler.viewer.v0+json": {
       "columns": [
        {
         "name": "index",
         "rawType": "object",
         "type": "string"
        },
        {
         "name": "Democrat",
         "rawType": "float64",
         "type": "float"
        },
        {
         "name": "Republican",
         "rawType": "float64",
         "type": "float"
        }
       ],
       "conversionMethod": "pd.DataFrame",
       "ref": "2c0527e9-e2ff-4385-91de-be6b5aea9dea",
       "rows": [
        [
         "Democrat",
         "96.16",
         "30.91"
        ],
        [
         "Republican",
         "30.91",
         "90.19"
        ]
       ],
       "shape": {
        "columns": 2,
        "rows": 2
       }
      },
      "text/html": [
       "<div>\n",
       "<style scoped>\n",
       "    .dataframe tbody tr th:only-of-type {\n",
       "        vertical-align: middle;\n",
       "    }\n",
       "\n",
       "    .dataframe tbody tr th {\n",
       "        vertical-align: top;\n",
       "    }\n",
       "\n",
       "    .dataframe thead th {\n",
       "        text-align: right;\n",
       "    }\n",
       "</style>\n",
       "<table border=\"1\" class=\"dataframe\">\n",
       "  <thead>\n",
       "    <tr style=\"text-align: right;\">\n",
       "      <th></th>\n",
       "      <th>Democrat</th>\n",
       "      <th>Republican</th>\n",
       "    </tr>\n",
       "  </thead>\n",
       "  <tbody>\n",
       "    <tr>\n",
       "      <th>Democrat</th>\n",
       "      <td>96.16</td>\n",
       "      <td>30.91</td>\n",
       "    </tr>\n",
       "    <tr>\n",
       "      <th>Republican</th>\n",
       "      <td>30.91</td>\n",
       "      <td>90.19</td>\n",
       "    </tr>\n",
       "  </tbody>\n",
       "</table>\n",
       "</div>"
      ],
      "text/plain": [
       "            Democrat  Republican\n",
       "Democrat       96.16       30.91\n",
       "Republican     30.91       90.19"
      ]
     },
     "execution_count": 79,
     "metadata": {},
     "output_type": "execute_result"
    }
   ],
   "source": [
    "party_agreement_ratio_table(2020, df_filtered_votes)"
   ]
  },
  {
   "cell_type": "code",
   "execution_count": 80,
   "id": "6dedcad1",
   "metadata": {},
   "outputs": [
    {
     "name": "stderr",
     "output_type": "stream",
     "text": [
      "C:\\Users\\gs_ke\\AppData\\Local\\Temp\\ipykernel_7256\\3337380425.py:8: FutureWarning: Downcasting behavior in `replace` is deprecated and will be removed in a future version. To retain the old behavior, explicitly call `result.infer_objects(copy=False)`. To opt-in to the future behavior, set `pd.set_option('future.no_silent_downcasting', True)`\n",
      "  vote_numeric = vote_matrix.replace({'Yea': 1, 'Aye': 1, 'Nay': 0, 'No': 0})\n"
     ]
    },
    {
     "data": {
      "application/vnd.microsoft.datawrangler.viewer.v0+json": {
       "columns": [
        {
         "name": "index",
         "rawType": "object",
         "type": "string"
        },
        {
         "name": "Democrat",
         "rawType": "float64",
         "type": "float"
        },
        {
         "name": "Republican",
         "rawType": "float64",
         "type": "float"
        }
       ],
       "conversionMethod": "pd.DataFrame",
       "ref": "aa2adf80-030e-44df-ad4e-b52c308800d0",
       "rows": [
        [
         "Democrat",
         "97.82",
         "35.87"
        ],
        [
         "Republican",
         "35.87",
         "89.85"
        ]
       ],
       "shape": {
        "columns": 2,
        "rows": 2
       }
      },
      "text/html": [
       "<div>\n",
       "<style scoped>\n",
       "    .dataframe tbody tr th:only-of-type {\n",
       "        vertical-align: middle;\n",
       "    }\n",
       "\n",
       "    .dataframe tbody tr th {\n",
       "        vertical-align: top;\n",
       "    }\n",
       "\n",
       "    .dataframe thead th {\n",
       "        text-align: right;\n",
       "    }\n",
       "</style>\n",
       "<table border=\"1\" class=\"dataframe\">\n",
       "  <thead>\n",
       "    <tr style=\"text-align: right;\">\n",
       "      <th></th>\n",
       "      <th>Democrat</th>\n",
       "      <th>Republican</th>\n",
       "    </tr>\n",
       "  </thead>\n",
       "  <tbody>\n",
       "    <tr>\n",
       "      <th>Democrat</th>\n",
       "      <td>97.82</td>\n",
       "      <td>35.87</td>\n",
       "    </tr>\n",
       "    <tr>\n",
       "      <th>Republican</th>\n",
       "      <td>35.87</td>\n",
       "      <td>89.85</td>\n",
       "    </tr>\n",
       "  </tbody>\n",
       "</table>\n",
       "</div>"
      ],
      "text/plain": [
       "            Democrat  Republican\n",
       "Democrat       97.82       35.87\n",
       "Republican     35.87       89.85"
      ]
     },
     "execution_count": 80,
     "metadata": {},
     "output_type": "execute_result"
    }
   ],
   "source": [
    "party_agreement_ratio_table(2021, df_filtered_votes)"
   ]
  },
  {
   "cell_type": "code",
   "execution_count": 81,
   "id": "96f2a99b",
   "metadata": {},
   "outputs": [
    {
     "name": "stderr",
     "output_type": "stream",
     "text": [
      "C:\\Users\\gs_ke\\AppData\\Local\\Temp\\ipykernel_7256\\3337380425.py:8: FutureWarning: Downcasting behavior in `replace` is deprecated and will be removed in a future version. To retain the old behavior, explicitly call `result.infer_objects(copy=False)`. To opt-in to the future behavior, set `pd.set_option('future.no_silent_downcasting', True)`\n",
      "  vote_numeric = vote_matrix.replace({'Yea': 1, 'Aye': 1, 'Nay': 0, 'No': 0})\n"
     ]
    },
    {
     "data": {
      "application/vnd.microsoft.datawrangler.viewer.v0+json": {
       "columns": [
        {
         "name": "index",
         "rawType": "object",
         "type": "string"
        },
        {
         "name": "Democrat",
         "rawType": "float64",
         "type": "float"
        },
        {
         "name": "Republican",
         "rawType": "float64",
         "type": "float"
        }
       ],
       "conversionMethod": "pd.DataFrame",
       "ref": "baa82af0-5a0c-4de6-bec0-5ae8f2b787b9",
       "rows": [
        [
         "Democrat",
         "97.79",
         "43.51"
        ],
        [
         "Republican",
         "43.51",
         "85.67"
        ]
       ],
       "shape": {
        "columns": 2,
        "rows": 2
       }
      },
      "text/html": [
       "<div>\n",
       "<style scoped>\n",
       "    .dataframe tbody tr th:only-of-type {\n",
       "        vertical-align: middle;\n",
       "    }\n",
       "\n",
       "    .dataframe tbody tr th {\n",
       "        vertical-align: top;\n",
       "    }\n",
       "\n",
       "    .dataframe thead th {\n",
       "        text-align: right;\n",
       "    }\n",
       "</style>\n",
       "<table border=\"1\" class=\"dataframe\">\n",
       "  <thead>\n",
       "    <tr style=\"text-align: right;\">\n",
       "      <th></th>\n",
       "      <th>Democrat</th>\n",
       "      <th>Republican</th>\n",
       "    </tr>\n",
       "  </thead>\n",
       "  <tbody>\n",
       "    <tr>\n",
       "      <th>Democrat</th>\n",
       "      <td>97.79</td>\n",
       "      <td>43.51</td>\n",
       "    </tr>\n",
       "    <tr>\n",
       "      <th>Republican</th>\n",
       "      <td>43.51</td>\n",
       "      <td>85.67</td>\n",
       "    </tr>\n",
       "  </tbody>\n",
       "</table>\n",
       "</div>"
      ],
      "text/plain": [
       "            Democrat  Republican\n",
       "Democrat       97.79       43.51\n",
       "Republican     43.51       85.67"
      ]
     },
     "execution_count": 81,
     "metadata": {},
     "output_type": "execute_result"
    }
   ],
   "source": [
    "party_agreement_ratio_table(2022, df_filtered_votes)"
   ]
  },
  {
   "cell_type": "code",
   "execution_count": 82,
   "id": "613114af",
   "metadata": {},
   "outputs": [
    {
     "name": "stderr",
     "output_type": "stream",
     "text": [
      "C:\\Users\\gs_ke\\AppData\\Local\\Temp\\ipykernel_7256\\3337380425.py:8: FutureWarning: Downcasting behavior in `replace` is deprecated and will be removed in a future version. To retain the old behavior, explicitly call `result.infer_objects(copy=False)`. To opt-in to the future behavior, set `pd.set_option('future.no_silent_downcasting', True)`\n",
      "  vote_numeric = vote_matrix.replace({'Yea': 1, 'Aye': 1, 'Nay': 0, 'No': 0})\n"
     ]
    },
    {
     "data": {
      "application/vnd.microsoft.datawrangler.viewer.v0+json": {
       "columns": [
        {
         "name": "index",
         "rawType": "object",
         "type": "string"
        },
        {
         "name": "Democrat",
         "rawType": "float64",
         "type": "float"
        },
        {
         "name": "Republican",
         "rawType": "float64",
         "type": "float"
        }
       ],
       "conversionMethod": "pd.DataFrame",
       "ref": "b9b1f0b3-8434-4ba7-896b-7305e70e6daa",
       "rows": [
        [
         "Democrat",
         "95.13",
         "28.45"
        ],
        [
         "Republican",
         "28.45",
         "86.3"
        ]
       ],
       "shape": {
        "columns": 2,
        "rows": 2
       }
      },
      "text/html": [
       "<div>\n",
       "<style scoped>\n",
       "    .dataframe tbody tr th:only-of-type {\n",
       "        vertical-align: middle;\n",
       "    }\n",
       "\n",
       "    .dataframe tbody tr th {\n",
       "        vertical-align: top;\n",
       "    }\n",
       "\n",
       "    .dataframe thead th {\n",
       "        text-align: right;\n",
       "    }\n",
       "</style>\n",
       "<table border=\"1\" class=\"dataframe\">\n",
       "  <thead>\n",
       "    <tr style=\"text-align: right;\">\n",
       "      <th></th>\n",
       "      <th>Democrat</th>\n",
       "      <th>Republican</th>\n",
       "    </tr>\n",
       "  </thead>\n",
       "  <tbody>\n",
       "    <tr>\n",
       "      <th>Democrat</th>\n",
       "      <td>95.13</td>\n",
       "      <td>28.45</td>\n",
       "    </tr>\n",
       "    <tr>\n",
       "      <th>Republican</th>\n",
       "      <td>28.45</td>\n",
       "      <td>86.30</td>\n",
       "    </tr>\n",
       "  </tbody>\n",
       "</table>\n",
       "</div>"
      ],
      "text/plain": [
       "            Democrat  Republican\n",
       "Democrat       95.13       28.45\n",
       "Republican     28.45       86.30"
      ]
     },
     "execution_count": 82,
     "metadata": {},
     "output_type": "execute_result"
    }
   ],
   "source": [
    "party_agreement_ratio_table(2023, df_filtered_votes)"
   ]
  },
  {
   "cell_type": "code",
   "execution_count": 83,
   "id": "a1257e21",
   "metadata": {},
   "outputs": [
    {
     "name": "stderr",
     "output_type": "stream",
     "text": [
      "C:\\Users\\gs_ke\\AppData\\Local\\Temp\\ipykernel_7256\\3337380425.py:8: FutureWarning: Downcasting behavior in `replace` is deprecated and will be removed in a future version. To retain the old behavior, explicitly call `result.infer_objects(copy=False)`. To opt-in to the future behavior, set `pd.set_option('future.no_silent_downcasting', True)`\n",
      "  vote_numeric = vote_matrix.replace({'Yea': 1, 'Aye': 1, 'Nay': 0, 'No': 0})\n"
     ]
    },
    {
     "data": {
      "application/vnd.microsoft.datawrangler.viewer.v0+json": {
       "columns": [
        {
         "name": "index",
         "rawType": "object",
         "type": "string"
        },
        {
         "name": "Democrat",
         "rawType": "float64",
         "type": "float"
        },
        {
         "name": "Republican",
         "rawType": "float64",
         "type": "float"
        }
       ],
       "conversionMethod": "pd.DataFrame",
       "ref": "f2bacb15-02e4-4856-8703-cabaf621f3b4",
       "rows": [
        [
         "Democrat",
         "93.07",
         "34.7"
        ],
        [
         "Republican",
         "34.7",
         "88.62"
        ]
       ],
       "shape": {
        "columns": 2,
        "rows": 2
       }
      },
      "text/html": [
       "<div>\n",
       "<style scoped>\n",
       "    .dataframe tbody tr th:only-of-type {\n",
       "        vertical-align: middle;\n",
       "    }\n",
       "\n",
       "    .dataframe tbody tr th {\n",
       "        vertical-align: top;\n",
       "    }\n",
       "\n",
       "    .dataframe thead th {\n",
       "        text-align: right;\n",
       "    }\n",
       "</style>\n",
       "<table border=\"1\" class=\"dataframe\">\n",
       "  <thead>\n",
       "    <tr style=\"text-align: right;\">\n",
       "      <th></th>\n",
       "      <th>Democrat</th>\n",
       "      <th>Republican</th>\n",
       "    </tr>\n",
       "  </thead>\n",
       "  <tbody>\n",
       "    <tr>\n",
       "      <th>Democrat</th>\n",
       "      <td>93.07</td>\n",
       "      <td>34.70</td>\n",
       "    </tr>\n",
       "    <tr>\n",
       "      <th>Republican</th>\n",
       "      <td>34.70</td>\n",
       "      <td>88.62</td>\n",
       "    </tr>\n",
       "  </tbody>\n",
       "</table>\n",
       "</div>"
      ],
      "text/plain": [
       "            Democrat  Republican\n",
       "Democrat       93.07       34.70\n",
       "Republican     34.70       88.62"
      ]
     },
     "execution_count": 83,
     "metadata": {},
     "output_type": "execute_result"
    }
   ],
   "source": [
    "party_agreement_ratio_table(2024, df_filtered_votes)"
   ]
  },
  {
   "cell_type": "markdown",
   "id": "544132ba",
   "metadata": {},
   "source": [
    "Bazı yıllarda verilen aynı oy oranları artış gösterse de genel olarak benzer seviyede reddetmiş. Bu yıllarda ABD politikasında değişiklikler olması bana çok muhtemel geldi. Genellikle ülkelerin güvenlik problemleri olduğunda halk meclisten birlik içinde davranmasını bekliyor veya bir güvenlik tasarısı söz konusu olduğunda vekiller gelen baskılara direnemeyebiliyor. Bu yüzden de benzer oylar kullanıyorlar. Aynı oy kullanmalarının sebepleri bu gibi nedenler olabilir. Bu nedenlerin arasında çevre faaliyetleri, insan hakları problemleri, farklı ülkelere yönelik alınacak tedbirler, iç sorunlar da örnek gösterilebilir. Bu birkaç yıl haricinde ise oranlar %30 seviyelerinde dağılmış yani benzerlik göstermiş. %30 benim beklediğimden yüksek çıktı açıkçası. Ben daha ayrık, daha kutuplu bir meclis bekliyordum. Ama sonuç olarak vekillerin kendi partileri ile oy oranlarına kıyasla karşılaştırdığımızda %30 çok düşük kalıyor. Bu da partilerin birbirlerinin önerilerini dinlememesinden kaynaklanabilir. Diğer sebep olarak da partiler genellikle halk yararına bir öneri geldiğinde çoğunluk olan partinin yaptığı bir şey olarak gözükmesin diye reddedebiliyorlar. Ya da çoğunluk olan parti muhalefetin iyi yaptığı bir şey olarak gözükmesin diye bu öneriyi reddedebiliyor. Bu gibi sebeplerden bu oy oranları çıkmış olabilir. "
   ]
  },
  {
   "cell_type": "code",
   "execution_count": null,
   "id": "c442fb93",
   "metadata": {},
   "outputs": [],
   "source": [
    "from scipy.stats import chi2_contingency\n",
    "\n",
    "def chi_squared_stats_per_year(df_filtered_votes, start_year=2010, end_year=2024):\n",
    "    results = []\n",
    "\n",
    "    for year in range(start_year, end_year + 1):\n",
    "        try:\n",
    "            df_year = df_filtered_votes[df_filtered_votes[\"year\"] == str(year)]\n",
    "\n",
    "            vote_matrix = df_year.pivot_table(\n",
    "                index=\"year_rollcall\", columns=\"id\", values=\"vote\", aggfunc=\"first\"\n",
    "            )\n",
    "            vote_numeric = vote_matrix.replace({'Yea': 1, 'Aye': 1, 'Nay': 0, 'No': 0})\n",
    "            vote_numeric = vote_numeric.dropna(how=\"all\", axis=0)\n",
    "\n",
    "            id_to_party = df_year.drop_duplicates(\"id\").set_index(\"id\")[\"party\"].to_dict()\n",
    "\n",
    "            agreement_counts = {\n",
    "                (\"D\", \"D\"): 0,\n",
    "                (\"D\", \"R\"): 0,\n",
    "                (\"R\", \"R\"): 0,\n",
    "            }\n",
    "\n",
    "            for _, row in vote_numeric.iterrows():\n",
    "                valid_votes = row.dropna()\n",
    "                for id1, vote1 in valid_votes.items():\n",
    "                    party1 = id_to_party.get(id1)\n",
    "                    if party1 not in [\"D\", \"R\"]:\n",
    "                        continue\n",
    "                    for id2, vote2 in valid_votes.items():\n",
    "                        party2 = id_to_party.get(id2)\n",
    "                        if party2 not in [\"D\", \"R\"] or id1 >= id2:\n",
    "                            continue\n",
    "                        if vote1 == vote2:\n",
    "                            key = tuple(sorted([party1, party2]))\n",
    "                            agreement_counts[key] += 1\n",
    "\n",
    "            table = [\n",
    "                [agreement_counts[(\"D\", \"D\")], agreement_counts[(\"D\", \"R\")]],\n",
    "                [agreement_counts[(\"D\", \"R\")], agreement_counts[(\"R\", \"R\")]]\n",
    "            ]\n",
    "\n",
    "            chi2, p, dof, expected = chi2_contingency(table)\n",
    "\n",
    "            results.append({\n",
    "                \"year\": year,\n",
    "                \"chi2_statistic\": chi2,\n",
    "                \"p_value\": p,\n",
    "                \"observed_table\": table\n",
    "            })\n",
    "\n",
    "        except Exception as e:\n",
    "            print(f\"{year} için hata: {e}\")\n",
    "            continue\n",
    "\n",
    "    return pd.DataFrame(results)\n"
   ]
  },
  {
   "cell_type": "code",
   "execution_count": 85,
   "id": "ac4775d1",
   "metadata": {},
   "outputs": [
    {
     "name": "stderr",
     "output_type": "stream",
     "text": [
      "C:\\Users\\gs_ke\\AppData\\Local\\Temp\\ipykernel_7256\\4154218161.py:15: FutureWarning: Downcasting behavior in `replace` is deprecated and will be removed in a future version. To retain the old behavior, explicitly call `result.infer_objects(copy=False)`. To opt-in to the future behavior, set `pd.set_option('future.no_silent_downcasting', True)`\n",
      "  vote_numeric = vote_matrix.replace({'Yea': 1, 'Aye': 1, 'Nay': 0, 'No': 0})\n",
      "C:\\Users\\gs_ke\\AppData\\Local\\Temp\\ipykernel_7256\\4154218161.py:15: FutureWarning: Downcasting behavior in `replace` is deprecated and will be removed in a future version. To retain the old behavior, explicitly call `result.infer_objects(copy=False)`. To opt-in to the future behavior, set `pd.set_option('future.no_silent_downcasting', True)`\n",
      "  vote_numeric = vote_matrix.replace({'Yea': 1, 'Aye': 1, 'Nay': 0, 'No': 0})\n",
      "C:\\Users\\gs_ke\\AppData\\Local\\Temp\\ipykernel_7256\\4154218161.py:15: FutureWarning: Downcasting behavior in `replace` is deprecated and will be removed in a future version. To retain the old behavior, explicitly call `result.infer_objects(copy=False)`. To opt-in to the future behavior, set `pd.set_option('future.no_silent_downcasting', True)`\n",
      "  vote_numeric = vote_matrix.replace({'Yea': 1, 'Aye': 1, 'Nay': 0, 'No': 0})\n",
      "C:\\Users\\gs_ke\\AppData\\Local\\Temp\\ipykernel_7256\\4154218161.py:15: FutureWarning: Downcasting behavior in `replace` is deprecated and will be removed in a future version. To retain the old behavior, explicitly call `result.infer_objects(copy=False)`. To opt-in to the future behavior, set `pd.set_option('future.no_silent_downcasting', True)`\n",
      "  vote_numeric = vote_matrix.replace({'Yea': 1, 'Aye': 1, 'Nay': 0, 'No': 0})\n",
      "C:\\Users\\gs_ke\\AppData\\Local\\Temp\\ipykernel_7256\\4154218161.py:15: FutureWarning: Downcasting behavior in `replace` is deprecated and will be removed in a future version. To retain the old behavior, explicitly call `result.infer_objects(copy=False)`. To opt-in to the future behavior, set `pd.set_option('future.no_silent_downcasting', True)`\n",
      "  vote_numeric = vote_matrix.replace({'Yea': 1, 'Aye': 1, 'Nay': 0, 'No': 0})\n",
      "C:\\Users\\gs_ke\\AppData\\Local\\Temp\\ipykernel_7256\\4154218161.py:15: FutureWarning: Downcasting behavior in `replace` is deprecated and will be removed in a future version. To retain the old behavior, explicitly call `result.infer_objects(copy=False)`. To opt-in to the future behavior, set `pd.set_option('future.no_silent_downcasting', True)`\n",
      "  vote_numeric = vote_matrix.replace({'Yea': 1, 'Aye': 1, 'Nay': 0, 'No': 0})\n",
      "C:\\Users\\gs_ke\\AppData\\Local\\Temp\\ipykernel_7256\\4154218161.py:15: FutureWarning: Downcasting behavior in `replace` is deprecated and will be removed in a future version. To retain the old behavior, explicitly call `result.infer_objects(copy=False)`. To opt-in to the future behavior, set `pd.set_option('future.no_silent_downcasting', True)`\n",
      "  vote_numeric = vote_matrix.replace({'Yea': 1, 'Aye': 1, 'Nay': 0, 'No': 0})\n",
      "C:\\Users\\gs_ke\\AppData\\Local\\Temp\\ipykernel_7256\\4154218161.py:15: FutureWarning: Downcasting behavior in `replace` is deprecated and will be removed in a future version. To retain the old behavior, explicitly call `result.infer_objects(copy=False)`. To opt-in to the future behavior, set `pd.set_option('future.no_silent_downcasting', True)`\n",
      "  vote_numeric = vote_matrix.replace({'Yea': 1, 'Aye': 1, 'Nay': 0, 'No': 0})\n",
      "C:\\Users\\gs_ke\\AppData\\Local\\Temp\\ipykernel_7256\\4154218161.py:15: FutureWarning: Downcasting behavior in `replace` is deprecated and will be removed in a future version. To retain the old behavior, explicitly call `result.infer_objects(copy=False)`. To opt-in to the future behavior, set `pd.set_option('future.no_silent_downcasting', True)`\n",
      "  vote_numeric = vote_matrix.replace({'Yea': 1, 'Aye': 1, 'Nay': 0, 'No': 0})\n",
      "C:\\Users\\gs_ke\\AppData\\Local\\Temp\\ipykernel_7256\\4154218161.py:15: FutureWarning: Downcasting behavior in `replace` is deprecated and will be removed in a future version. To retain the old behavior, explicitly call `result.infer_objects(copy=False)`. To opt-in to the future behavior, set `pd.set_option('future.no_silent_downcasting', True)`\n",
      "  vote_numeric = vote_matrix.replace({'Yea': 1, 'Aye': 1, 'Nay': 0, 'No': 0})\n",
      "C:\\Users\\gs_ke\\AppData\\Local\\Temp\\ipykernel_7256\\4154218161.py:15: FutureWarning: Downcasting behavior in `replace` is deprecated and will be removed in a future version. To retain the old behavior, explicitly call `result.infer_objects(copy=False)`. To opt-in to the future behavior, set `pd.set_option('future.no_silent_downcasting', True)`\n",
      "  vote_numeric = vote_matrix.replace({'Yea': 1, 'Aye': 1, 'Nay': 0, 'No': 0})\n",
      "C:\\Users\\gs_ke\\AppData\\Local\\Temp\\ipykernel_7256\\4154218161.py:15: FutureWarning: Downcasting behavior in `replace` is deprecated and will be removed in a future version. To retain the old behavior, explicitly call `result.infer_objects(copy=False)`. To opt-in to the future behavior, set `pd.set_option('future.no_silent_downcasting', True)`\n",
      "  vote_numeric = vote_matrix.replace({'Yea': 1, 'Aye': 1, 'Nay': 0, 'No': 0})\n",
      "C:\\Users\\gs_ke\\AppData\\Local\\Temp\\ipykernel_7256\\4154218161.py:15: FutureWarning: Downcasting behavior in `replace` is deprecated and will be removed in a future version. To retain the old behavior, explicitly call `result.infer_objects(copy=False)`. To opt-in to the future behavior, set `pd.set_option('future.no_silent_downcasting', True)`\n",
      "  vote_numeric = vote_matrix.replace({'Yea': 1, 'Aye': 1, 'Nay': 0, 'No': 0})\n",
      "C:\\Users\\gs_ke\\AppData\\Local\\Temp\\ipykernel_7256\\4154218161.py:15: FutureWarning: Downcasting behavior in `replace` is deprecated and will be removed in a future version. To retain the old behavior, explicitly call `result.infer_objects(copy=False)`. To opt-in to the future behavior, set `pd.set_option('future.no_silent_downcasting', True)`\n",
      "  vote_numeric = vote_matrix.replace({'Yea': 1, 'Aye': 1, 'Nay': 0, 'No': 0})\n",
      "C:\\Users\\gs_ke\\AppData\\Local\\Temp\\ipykernel_7256\\4154218161.py:15: FutureWarning: Downcasting behavior in `replace` is deprecated and will be removed in a future version. To retain the old behavior, explicitly call `result.infer_objects(copy=False)`. To opt-in to the future behavior, set `pd.set_option('future.no_silent_downcasting', True)`\n",
      "  vote_numeric = vote_matrix.replace({'Yea': 1, 'Aye': 1, 'Nay': 0, 'No': 0})\n"
     ]
    }
   ],
   "source": [
    "chi2_results = chi_squared_stats_per_year(df_filtered_votes)\n"
   ]
  },
  {
   "cell_type": "code",
   "execution_count": 86,
   "id": "d324e6d2",
   "metadata": {},
   "outputs": [
    {
     "data": {
      "application/vnd.microsoft.datawrangler.viewer.v0+json": {
       "columns": [
        {
         "name": "index",
         "rawType": "int64",
         "type": "integer"
        },
        {
         "name": "year",
         "rawType": "int64",
         "type": "integer"
        },
        {
         "name": "chi2_statistic",
         "rawType": "float64",
         "type": "float"
        },
        {
         "name": "p_value",
         "rawType": "float64",
         "type": "float"
        },
        {
         "name": "observed_table",
         "rawType": "object",
         "type": "unknown"
        }
       ],
       "conversionMethod": "pd.DataFrame",
       "ref": "6479e563-7927-4f16-97aa-032c468f7f58",
       "rows": [
        [
         "0",
         "2010",
         "1074866.6089508869",
         "0.0",
         "[[17983149, 16349800], [16349800, 8476036]]"
        ],
        [
         "1",
         "2011",
         "2209156.7436617115",
         "0.0",
         "[[13503412, 11809924], [11809924, 22781274]]"
        ],
        [
         "2",
         "2012",
         "902730.5475892089",
         "0.0",
         "[[9005623, 8789043], [8789043, 15634592]]"
        ],
        [
         "3",
         "2013",
         "689796.3081671232",
         "0.0",
         "[[10165567, 9459527], [9459527, 14647523]]"
        ],
        [
         "4",
         "2014",
         "1394728.8993259196",
         "0.0",
         "[[9093340, 7187109], [7187109, 12663029]]"
        ],
        [
         "5",
         "2015",
         "2462005.1949945386",
         "0.0",
         "[[10398116, 8406362], [8406362, 17914494]]"
        ],
        [
         "6",
         "2016",
         "2156495.3458772073",
         "0.0",
         "[[9047469, 7435317], [7435317, 16048368]]"
        ],
        [
         "7",
         "2017",
         "3170975.9871800733",
         "0.0",
         "[[11436106, 8150230], [8150230, 17410341]]"
        ],
        [
         "8",
         "2018",
         "61376.86322318228",
         "0.0",
         "[[7456396, 8466356], [8466356, 11367914]]"
        ],
        [
         "9",
         "2019",
         "1038213.6156104365",
         "0.0",
         "[[17626951, 10358759], [10358759, 11007678]]"
        ],
        [
         "10",
         "2020",
         "635925.2446452121",
         "0.0",
         "[[6168687, 3170801], [3170801, 3687183]]"
        ],
        [
         "11",
         "2021",
         "563922.1955523195",
         "0.0",
         "[[10213826, 7151479], [7151479, 8481929]]"
        ],
        [
         "12",
         "2022",
         "22796.211208041168",
         "0.0",
         "[[12595807, 10597790], [10597790, 9774826]]"
        ],
        [
         "13",
         "2023",
         "2368895.4478170024",
         "0.0",
         "[[14227813, 8943167], [8943167, 14124585]]"
        ],
        [
         "14",
         "2024",
         "599957.5985130081",
         "0.0",
         "[[9717919, 7538677], [7538677, 9924540]]"
        ]
       ],
       "shape": {
        "columns": 4,
        "rows": 15
       }
      },
      "text/html": [
       "<div>\n",
       "<style scoped>\n",
       "    .dataframe tbody tr th:only-of-type {\n",
       "        vertical-align: middle;\n",
       "    }\n",
       "\n",
       "    .dataframe tbody tr th {\n",
       "        vertical-align: top;\n",
       "    }\n",
       "\n",
       "    .dataframe thead th {\n",
       "        text-align: right;\n",
       "    }\n",
       "</style>\n",
       "<table border=\"1\" class=\"dataframe\">\n",
       "  <thead>\n",
       "    <tr style=\"text-align: right;\">\n",
       "      <th></th>\n",
       "      <th>year</th>\n",
       "      <th>chi2_statistic</th>\n",
       "      <th>p_value</th>\n",
       "      <th>observed_table</th>\n",
       "    </tr>\n",
       "  </thead>\n",
       "  <tbody>\n",
       "    <tr>\n",
       "      <th>0</th>\n",
       "      <td>2010</td>\n",
       "      <td>1.074867e+06</td>\n",
       "      <td>0.0</td>\n",
       "      <td>[[17983149, 16349800], [16349800, 8476036]]</td>\n",
       "    </tr>\n",
       "    <tr>\n",
       "      <th>1</th>\n",
       "      <td>2011</td>\n",
       "      <td>2.209157e+06</td>\n",
       "      <td>0.0</td>\n",
       "      <td>[[13503412, 11809924], [11809924, 22781274]]</td>\n",
       "    </tr>\n",
       "    <tr>\n",
       "      <th>2</th>\n",
       "      <td>2012</td>\n",
       "      <td>9.027305e+05</td>\n",
       "      <td>0.0</td>\n",
       "      <td>[[9005623, 8789043], [8789043, 15634592]]</td>\n",
       "    </tr>\n",
       "    <tr>\n",
       "      <th>3</th>\n",
       "      <td>2013</td>\n",
       "      <td>6.897963e+05</td>\n",
       "      <td>0.0</td>\n",
       "      <td>[[10165567, 9459527], [9459527, 14647523]]</td>\n",
       "    </tr>\n",
       "    <tr>\n",
       "      <th>4</th>\n",
       "      <td>2014</td>\n",
       "      <td>1.394729e+06</td>\n",
       "      <td>0.0</td>\n",
       "      <td>[[9093340, 7187109], [7187109, 12663029]]</td>\n",
       "    </tr>\n",
       "    <tr>\n",
       "      <th>5</th>\n",
       "      <td>2015</td>\n",
       "      <td>2.462005e+06</td>\n",
       "      <td>0.0</td>\n",
       "      <td>[[10398116, 8406362], [8406362, 17914494]]</td>\n",
       "    </tr>\n",
       "    <tr>\n",
       "      <th>6</th>\n",
       "      <td>2016</td>\n",
       "      <td>2.156495e+06</td>\n",
       "      <td>0.0</td>\n",
       "      <td>[[9047469, 7435317], [7435317, 16048368]]</td>\n",
       "    </tr>\n",
       "    <tr>\n",
       "      <th>7</th>\n",
       "      <td>2017</td>\n",
       "      <td>3.170976e+06</td>\n",
       "      <td>0.0</td>\n",
       "      <td>[[11436106, 8150230], [8150230, 17410341]]</td>\n",
       "    </tr>\n",
       "    <tr>\n",
       "      <th>8</th>\n",
       "      <td>2018</td>\n",
       "      <td>6.137686e+04</td>\n",
       "      <td>0.0</td>\n",
       "      <td>[[7456396, 8466356], [8466356, 11367914]]</td>\n",
       "    </tr>\n",
       "    <tr>\n",
       "      <th>9</th>\n",
       "      <td>2019</td>\n",
       "      <td>1.038214e+06</td>\n",
       "      <td>0.0</td>\n",
       "      <td>[[17626951, 10358759], [10358759, 11007678]]</td>\n",
       "    </tr>\n",
       "    <tr>\n",
       "      <th>10</th>\n",
       "      <td>2020</td>\n",
       "      <td>6.359252e+05</td>\n",
       "      <td>0.0</td>\n",
       "      <td>[[6168687, 3170801], [3170801, 3687183]]</td>\n",
       "    </tr>\n",
       "    <tr>\n",
       "      <th>11</th>\n",
       "      <td>2021</td>\n",
       "      <td>5.639222e+05</td>\n",
       "      <td>0.0</td>\n",
       "      <td>[[10213826, 7151479], [7151479, 8481929]]</td>\n",
       "    </tr>\n",
       "    <tr>\n",
       "      <th>12</th>\n",
       "      <td>2022</td>\n",
       "      <td>2.279621e+04</td>\n",
       "      <td>0.0</td>\n",
       "      <td>[[12595807, 10597790], [10597790, 9774826]]</td>\n",
       "    </tr>\n",
       "    <tr>\n",
       "      <th>13</th>\n",
       "      <td>2023</td>\n",
       "      <td>2.368895e+06</td>\n",
       "      <td>0.0</td>\n",
       "      <td>[[14227813, 8943167], [8943167, 14124585]]</td>\n",
       "    </tr>\n",
       "    <tr>\n",
       "      <th>14</th>\n",
       "      <td>2024</td>\n",
       "      <td>5.999576e+05</td>\n",
       "      <td>0.0</td>\n",
       "      <td>[[9717919, 7538677], [7538677, 9924540]]</td>\n",
       "    </tr>\n",
       "  </tbody>\n",
       "</table>\n",
       "</div>"
      ],
      "text/plain": [
       "    year  chi2_statistic  p_value  \\\n",
       "0   2010    1.074867e+06      0.0   \n",
       "1   2011    2.209157e+06      0.0   \n",
       "2   2012    9.027305e+05      0.0   \n",
       "3   2013    6.897963e+05      0.0   \n",
       "4   2014    1.394729e+06      0.0   \n",
       "5   2015    2.462005e+06      0.0   \n",
       "6   2016    2.156495e+06      0.0   \n",
       "7   2017    3.170976e+06      0.0   \n",
       "8   2018    6.137686e+04      0.0   \n",
       "9   2019    1.038214e+06      0.0   \n",
       "10  2020    6.359252e+05      0.0   \n",
       "11  2021    5.639222e+05      0.0   \n",
       "12  2022    2.279621e+04      0.0   \n",
       "13  2023    2.368895e+06      0.0   \n",
       "14  2024    5.999576e+05      0.0   \n",
       "\n",
       "                                  observed_table  \n",
       "0    [[17983149, 16349800], [16349800, 8476036]]  \n",
       "1   [[13503412, 11809924], [11809924, 22781274]]  \n",
       "2      [[9005623, 8789043], [8789043, 15634592]]  \n",
       "3     [[10165567, 9459527], [9459527, 14647523]]  \n",
       "4      [[9093340, 7187109], [7187109, 12663029]]  \n",
       "5     [[10398116, 8406362], [8406362, 17914494]]  \n",
       "6      [[9047469, 7435317], [7435317, 16048368]]  \n",
       "7     [[11436106, 8150230], [8150230, 17410341]]  \n",
       "8      [[7456396, 8466356], [8466356, 11367914]]  \n",
       "9   [[17626951, 10358759], [10358759, 11007678]]  \n",
       "10      [[6168687, 3170801], [3170801, 3687183]]  \n",
       "11     [[10213826, 7151479], [7151479, 8481929]]  \n",
       "12   [[12595807, 10597790], [10597790, 9774826]]  \n",
       "13    [[14227813, 8943167], [8943167, 14124585]]  \n",
       "14      [[9717919, 7538677], [7538677, 9924540]]  "
      ]
     },
     "execution_count": 86,
     "metadata": {},
     "output_type": "execute_result"
    }
   ],
   "source": [
    "chi2_results"
   ]
  },
  {
   "cell_type": "markdown",
   "id": "7663e483-1d0c-4d19-89ec-103e404e8082",
   "metadata": {},
   "source": [
    "## Q4\n",
    "\n",
    "For this question, we are going to use the following dataset."
   ]
  },
  {
   "cell_type": "markdown",
   "id": "8f3c3c4f-6012-4700-a5a1-1043998340ed",
   "metadata": {},
   "source": [
    "1. Write a regression model that predicts the Amount from the other variables. Assess the quality of the model using an appropriate measure.\n",
    "2. Write a logistic regression model that predicts the Class from other variables. Assess the quality of the model using an appropriate measure.\n",
    "3. The quality of the model seem very good, but in reality it doesn't work. Why? What is the problem? Offer a solution, implement and test it. Did it really solve our problem? Explain.\n",
    "4. Try other supervised classification models we have learned. Are they susceptible to the same problem as before? Explain. Offer a solution, implement and test it. Did it really solve our problem? Explain."
   ]
  },
  {
   "cell_type": "code",
   "execution_count": null,
   "id": "97e70b32",
   "metadata": {},
   "outputs": [
    {
     "name": "stdout",
     "output_type": "stream",
     "text": [
      "Mean Squared Error (MSE): 4333.019546066792\n",
      "RMSE (Root Mean Squared Error): 65.8256754319072\n",
      "MAE (Mean Absolute Error): 24.396598398954588\n",
      "MAPE (Mean Absolute Percentage Error): 1115.1711163548148\n"
     ]
    }
   ],
   "source": [
    "url = 'https://storage.googleapis.com/download.tensorflow.org/data/creditcard.csv'\n",
    "credit = pd.read_csv(url)\n",
    "\n",
    "X_1 = credit.drop(columns=['Amount', 'Class'])\n",
    "y_1 = credit['Amount']\n",
    "\n",
    "X_train, X_test, y_train, y_test = train_test_split(X_1, y_1, test_size=0.2, random_state=42)\n",
    "\n",
    "lr = LinearRegression()\n",
    "lr.fit(X_train, y_train)\n",
    "\n",
    "y_pred = lr.predict(X_test)\n",
    "\n",
    "mse = mean_squared_error(y_test, y_pred)\n",
    "rmse = np.sqrt(mse)\n",
    "mae = mean_absolute_error(y_test, y_pred)\n",
    "nonzero_mask = y_test != 0\n",
    "mape = np.mean(np.abs((y_test[nonzero_mask] - y_pred[nonzero_mask]) / y_test[nonzero_mask])) * 100\n",
    "\n",
    "print(\"Mean Squared Error (MSE):\", mse)\n",
    "print(\"RMSE (Root Mean Squared Error):\", rmse)\n",
    "print(\"MAE (Mean Absolute Error):\", mae)\n",
    "print(\"MAPE (Mean Absolute Percentage Error):\", mape)\n",
    "\n"
   ]
  },
  {
   "cell_type": "code",
   "execution_count": null,
   "id": "aaf523e3",
   "metadata": {},
   "outputs": [
    {
     "name": "stderr",
     "output_type": "stream",
     "text": [
      "c:\\Users\\gs_ke\\AppData\\Local\\Programs\\Python\\Python39\\lib\\site-packages\\sklearn\\linear_model\\_logistic.py:465: ConvergenceWarning: lbfgs failed to converge (status=1):\n",
      "STOP: TOTAL NO. of ITERATIONS REACHED LIMIT.\n",
      "\n",
      "Increase the number of iterations (max_iter) or scale the data as shown in:\n",
      "    https://scikit-learn.org/stable/modules/preprocessing.html\n",
      "Please also refer to the documentation for alternative solver options:\n",
      "    https://scikit-learn.org/stable/modules/linear_model.html#logistic-regression\n",
      "  n_iter_i = _check_optimize_result(\n"
     ]
    },
    {
     "name": "stdout",
     "output_type": "stream",
     "text": [
      "Accuracy: 0.9992\n",
      "Precision: 0.8205\n",
      "Recall: 0.6531\n",
      "ROC-AUC: 0.9439\n"
     ]
    },
    {
     "data": {
      "image/png": "[encoded data removed]",
      "text/plain": [
       "<Figure size 500x400 with 2 Axes>"
      ]
     },
     "metadata": {},
     "output_type": "display_data"
    }
   ],
   "source": [
    "X_2 = credit.drop(columns=['Class'])\n",
    "y_2 = credit['Class']              \n",
    "\n",
    "X_train, X_test, y_train, y_test = train_test_split(X_2, y_2, test_size=0.2, random_state=42, stratify=y_2)\n",
    "\n",
    "log_reg = LogisticRegression(max_iter=1000)\n",
    "log_reg.fit(X_train, y_train)\n",
    "\n",
    "y_pred = log_reg.predict(X_test)\n",
    "y_pred_proba = log_reg.predict_proba(X_test)[:, 1]\n",
    "\n",
    "acc = accuracy_score(y_test, y_pred)\n",
    "prec = precision_score(y_test, y_pred)\n",
    "recall = recall_score(y_test, y_pred)\n",
    "roc_auc = roc_auc_score(y_test, y_pred_proba)\n",
    "conf_matrix = confusion_matrix(y_test, y_pred)\n",
    "\n",
    "print(f\"Accuracy: {acc:.4f}\")\n",
    "print(f\"Precision: {prec:.4f}\")\n",
    "print(f\"Recall: {recall:.4f}\")\n",
    "print(f\"ROC-AUC: {roc_auc:.4f}\")\n",
    "\n",
    "plt.figure(figsize=(5,4))\n",
    "sns.heatmap(conf_matrix, annot=True, fmt=\"d\", cmap=\"Blues\", xticklabels=[\"Normal\", \"Fraud\"], yticklabels=[\"Normal\", \"Fraud\"])\n",
    "plt.xlabel(\"Tahmin\")\n",
    "plt.ylabel(\"Gerçek\")\n",
    "plt.title(\"Confusion Matrix\")\n",
    "plt.tight_layout()\n",
    "plt.show()"
   ]
  },
  {
   "cell_type": "markdown",
   "id": "6a0e6d3b",
   "metadata": {},
   "source": [
    "Bu modelin gerçekte işe yaramamasının sebebi bir sınıftan çok fazla olmasıdır. Veri seti özelliklerinde belirtildiği gibi bu dengesiz bir veri setidir. Normal işlemler çok fazla olduğu için model normal işlemlere doğru bir yönelme gösteriyor. Bu sebepten dolayı da Fraud işlemleri tahmin edemiyor. \n",
    "\n",
    "Çözüm yöntemlerine baktığımda ise önüme iki seçenek çıktı. Undersampling yani çoğunluk sınıf olan Normal işlemleri azaltmak veya Oversampling yani azınlık sınıf olan Fraud işlemleri çoğaltmak. Ben burada veri kaybı yaşamamak için Oversampling yöntemini uygulamaya karar verdim.  "
   ]
  },
  {
   "cell_type": "code",
   "execution_count": null,
   "id": "b1bca08f",
   "metadata": {},
   "outputs": [
    {
     "name": "stderr",
     "output_type": "stream",
     "text": [
      "c:\\Users\\gs_ke\\AppData\\Local\\Programs\\Python\\Python39\\lib\\site-packages\\sklearn\\base.py:474: FutureWarning: `BaseEstimator._validate_data` is deprecated in 1.6 and will be removed in 1.7. Use `sklearn.utils.validation.validate_data` instead. This function becomes public and is part of the scikit-learn developer API.\n",
      "  warnings.warn(\n",
      "c:\\Users\\gs_ke\\AppData\\Local\\Programs\\Python\\Python39\\lib\\site-packages\\sklearn\\utils\\_tags.py:354: FutureWarning: The SMOTE or classes from which it inherits use `_get_tags` and `_more_tags`. Please define the `__sklearn_tags__` method, or inherit from `sklearn.base.BaseEstimator` and/or other appropriate mixins such as `sklearn.base.TransformerMixin`, `sklearn.base.ClassifierMixin`, `sklearn.base.RegressorMixin`, and `sklearn.base.OutlierMixin`. From scikit-learn 1.7, not defining `__sklearn_tags__` will raise an error.\n",
      "  warnings.warn(\n"
     ]
    },
    {
     "name": "stdout",
     "output_type": "stream",
     "text": [
      "Accuracy: 0.9875\n",
      "Precision: 0.1111\n",
      "Recall: 0.8980\n",
      "ROC-AUC: 0.9761\n"
     ]
    },
    {
     "name": "stderr",
     "output_type": "stream",
     "text": [
      "c:\\Users\\gs_ke\\AppData\\Local\\Programs\\Python\\Python39\\lib\\site-packages\\sklearn\\linear_model\\_logistic.py:465: ConvergenceWarning: lbfgs failed to converge (status=1):\n",
      "STOP: TOTAL NO. of ITERATIONS REACHED LIMIT.\n",
      "\n",
      "Increase the number of iterations (max_iter) or scale the data as shown in:\n",
      "    https://scikit-learn.org/stable/modules/preprocessing.html\n",
      "Please also refer to the documentation for alternative solver options:\n",
      "    https://scikit-learn.org/stable/modules/linear_model.html#logistic-regression\n",
      "  n_iter_i = _check_optimize_result(\n"
     ]
    },
    {
     "data": {
      "image/png": "[encoded data removed]",
      "text/plain": [
       "<Figure size 500x400 with 2 Axes>"
      ]
     },
     "metadata": {},
     "output_type": "display_data"
    }
   ],
   "source": [
    "url = 'https://storage.googleapis.com/download.tensorflow.org/data/creditcard.csv'\n",
    "credit = pd.read_csv(url)\n",
    "\n",
    "X = credit.drop(columns=['Class'])\n",
    "y = credit['Class']\n",
    "\n",
    "X_train, X_test, y_train, y_test = train_test_split(X, y, test_size=0.2, stratify=y, random_state=42)\n",
    "\n",
    "smote = SMOTE(random_state=42)\n",
    "X_train_res, y_train_res = smote.fit_resample(X_train, y_train)\n",
    "\n",
    "model = LogisticRegression(max_iter=1000)\n",
    "model.fit(X_train_res, y_train_res)\n",
    "\n",
    "y_pred = model.predict(X_test)\n",
    "y_pred_proba = model.predict_proba(X_test)[:, 1]\n",
    "\n",
    "acc = accuracy_score(y_test, y_pred)\n",
    "prec = precision_score(y_test, y_pred)\n",
    "recall = recall_score(y_test, y_pred)\n",
    "roc_auc = roc_auc_score(y_test, y_pred_proba)\n",
    "conf_matrix = confusion_matrix(y_test, y_pred)\n",
    "\n",
    "print(f\"Accuracy: {acc:.4f}\")\n",
    "print(f\"Precision: {prec:.4f}\")\n",
    "print(f\"Recall: {recall:.4f}\")\n",
    "print(f\"ROC-AUC: {roc_auc:.4f}\")\n",
    "\n",
    "plt.figure(figsize=(5, 4))\n",
    "sns.heatmap(conf_matrix, annot=True, fmt=\"d\", cmap=\"Blues\", xticklabels=[\"Normal\", \"Fraud\"], yticklabels=[\"Normal\", \"Fraud\"])\n",
    "plt.xlabel(\"Tahmin\")\n",
    "plt.ylabel(\"Gerçek\")\n",
    "plt.title(\"Confusion Matrix (SMOTE Sonrası)\")\n",
    "plt.tight_layout()\n",
    "plt.show()\n"
   ]
  },
  {
   "cell_type": "markdown",
   "id": "c356dfa5",
   "metadata": {},
   "source": [
    "Oversampling uygulamak sonuçları değiştirdi ancak hala tam olarak istediğim seviyede değil. Yine de Fraud'ları sayı olarak doğru tahmin etme oranı iyi bir derecede artmış görünüyor. Ancak bunda şöyle bir yanılgıya da düşebiliriz. Oversampling işlemi yaptıktan sonra Precision metriğimiz oldukça düştü. Confusion Matrix'ten de görebileceğimiz üzere modelin Fraud tahmin sayısı bir hayli arttı ve bunlar yanlış tahminler. Yani model rastgele olarak Fraud tahmini de yapıyor. Bu da istemediğimiz bir durum. Bu yüzden ben bu veri seti ve bu model üzerinde Oversampling yöntemini ne başarılı ne de başarısız buldum. "
   ]
  },
  {
   "cell_type": "code",
   "execution_count": null,
   "id": "10669e04",
   "metadata": {},
   "outputs": [
    {
     "name": "stderr",
     "output_type": "stream",
     "text": [
      "c:\\Users\\gs_ke\\AppData\\Local\\Programs\\Python\\Python39\\lib\\site-packages\\sklearn\\base.py:484: FutureWarning: `BaseEstimator._check_n_features` is deprecated in 1.6 and will be removed in 1.7. Use `sklearn.utils.validation._check_n_features` instead.\n",
      "  warnings.warn(\n",
      "c:\\Users\\gs_ke\\AppData\\Local\\Programs\\Python\\Python39\\lib\\site-packages\\sklearn\\base.py:493: FutureWarning: `BaseEstimator._check_feature_names` is deprecated in 1.6 and will be removed in 1.7. Use `sklearn.utils.validation._check_feature_names` instead.\n",
      "  warnings.warn(\n",
      "c:\\Users\\gs_ke\\AppData\\Local\\Programs\\Python\\Python39\\lib\\site-packages\\sklearn\\linear_model\\_logistic.py:465: ConvergenceWarning: lbfgs failed to converge (status=1):\n",
      "STOP: TOTAL NO. of ITERATIONS REACHED LIMIT.\n",
      "\n",
      "Increase the number of iterations (max_iter) or scale the data as shown in:\n",
      "    https://scikit-learn.org/stable/modules/preprocessing.html\n",
      "Please also refer to the documentation for alternative solver options:\n",
      "    https://scikit-learn.org/stable/modules/linear_model.html#logistic-regression\n",
      "  n_iter_i = _check_optimize_result(\n"
     ]
    },
    {
     "name": "stdout",
     "output_type": "stream",
     "text": [
      "Accuracy: 0.9577\n",
      "Precision: 0.0361\n",
      "Recall: 0.9184\n",
      "ROC-AUC: 0.9754\n"
     ]
    },
    {
     "data": {
      "image/png": "[encoded data removed]",
      "text/plain": [
       "<Figure size 500x400 with 2 Axes>"
      ]
     },
     "metadata": {},
     "output_type": "display_data"
    }
   ],
   "source": [
    "url = 'https://storage.googleapis.com/download.tensorflow.org/data/creditcard.csv'\n",
    "credit = pd.read_csv(url)\n",
    "\n",
    "X = credit.drop(columns=['Class'])\n",
    "y = credit['Class']\n",
    "\n",
    "X_train, X_test, y_train, y_test = train_test_split(X, y, test_size=0.2, stratify=y, random_state=42)\n",
    "\n",
    "rus = RandomUnderSampler(random_state=42)\n",
    "X_train_res, y_train_res = rus.fit_resample(X_train, y_train)\n",
    "\n",
    "model = LogisticRegression(max_iter=1000)\n",
    "model.fit(X_train_res, y_train_res)\n",
    "\n",
    "y_pred = model.predict(X_test)\n",
    "y_pred_proba = model.predict_proba(X_test)[:, 1]\n",
    "\n",
    "acc = accuracy_score(y_test, y_pred)\n",
    "prec = precision_score(y_test, y_pred)\n",
    "recall = recall_score(y_test, y_pred)\n",
    "roc_auc = roc_auc_score(y_test, y_pred_proba)\n",
    "conf_matrix = confusion_matrix(y_test, y_pred)\n",
    "\n",
    "print(f\"Accuracy: {acc:.4f}\")\n",
    "print(f\"Precision: {prec:.4f}\")\n",
    "print(f\"Recall: {recall:.4f}\")\n",
    "print(f\"ROC-AUC: {roc_auc:.4f}\")\n",
    "\n",
    "plt.figure(figsize=(5, 4))\n",
    "sns.heatmap(conf_matrix, annot=True, fmt=\"d\", cmap=\"Blues\", xticklabels=[\"Normal\", \"Fraud\"], yticklabels=[\"Normal\", \"Fraud\"])\n",
    "plt.xlabel(\"Tahmin\")\n",
    "plt.ylabel(\"Gerçek\")\n",
    "plt.title(\"Confusion Matrix (Undersampling Sonrası)\")\n",
    "plt.tight_layout()\n",
    "plt.show()\n"
   ]
  },
  {
   "cell_type": "markdown",
   "id": "ac3a2524",
   "metadata": {},
   "source": [
    "Undersampling uygulamak sonuçları neredeyse hiç değiştirmedi. Oversampling yöntemiyle arasında neredeyse fark yok. Hatta Undersampling SMOTE'un yaptığı hataları daha da ileri bir seviyede yaptı."
   ]
  },
  {
   "cell_type": "code",
   "execution_count": null,
   "id": "fae61c32",
   "metadata": {},
   "outputs": [
    {
     "name": "stdout",
     "output_type": "stream",
     "text": [
      "\n",
      "🔍 Model: Random Forest\n",
      "Accuracy : 0.9996\n",
      "Precision: 0.9412\n",
      "Recall   : 0.8163\n",
      "ROC-AUC  : 0.9630\n"
     ]
    },
    {
     "data": {
      "image/png": "[encoded data removed]",
      "text/plain": [
       "<Figure size 450x400 with 2 Axes>"
      ]
     },
     "metadata": {},
     "output_type": "display_data"
    },
    {
     "name": "stdout",
     "output_type": "stream",
     "text": [
      "\n",
      "🔍 Model: XGBoost\n"
     ]
    },
    {
     "name": "stderr",
     "output_type": "stream",
     "text": [
      "c:\\Users\\gs_ke\\AppData\\Local\\Programs\\Python\\Python39\\lib\\site-packages\\xgboost\\core.py:158: UserWarning: [20:16:39] WARNING: C:\\buildkite-agent\\builds\\buildkite-windows-cpu-autoscaling-group-i-0c55ff5f71b100e98-1\\xgboost\\xgboost-ci-windows\\src\\learner.cc:740: \n",
      "Parameters: { \"use_label_encoder\" } are not used.\n",
      "\n",
      "  warnings.warn(smsg, UserWarning)\n"
     ]
    },
    {
     "name": "stdout",
     "output_type": "stream",
     "text": [
      "Accuracy : 0.9995\n",
      "Precision: 0.9186\n",
      "Recall   : 0.8061\n",
      "ROC-AUC  : 0.9743\n"
     ]
    },
    {
     "data": {
      "image/png": "[encoded data removed]",
      "text/plain": [
       "<Figure size 450x400 with 2 Axes>"
      ]
     },
     "metadata": {},
     "output_type": "display_data"
    },
    {
     "name": "stdout",
     "output_type": "stream",
     "text": [
      "\n",
      "🔍 Model: KNN\n",
      "Accuracy : 0.9983\n",
      "Precision: 1.0000\n",
      "Recall   : 0.0306\n",
      "ROC-AUC  : 0.6364\n"
     ]
    },
    {
     "data": {
      "image/png": "[encoded data removed]",
      "text/plain": [
       "<Figure size 450x400 with 2 Axes>"
      ]
     },
     "metadata": {},
     "output_type": "display_data"
    },
    {
     "name": "stdout",
     "output_type": "stream",
     "text": [
      "\n",
      "🔍 Model: SVM\n",
      "Accuracy : 0.9983\n",
      "Precision: 0.0000\n",
      "Recall   : 0.0000\n",
      "ROC-AUC  : 0.4037\n"
     ]
    },
    {
     "name": "stderr",
     "output_type": "stream",
     "text": [
      "c:\\Users\\gs_ke\\AppData\\Local\\Programs\\Python\\Python39\\lib\\site-packages\\sklearn\\metrics\\_classification.py:1565: UndefinedMetricWarning: Precision is ill-defined and being set to 0.0 due to no predicted samples. Use `zero_division` parameter to control this behavior.\n",
      "  _warn_prf(average, modifier, f\"{metric.capitalize()} is\", len(result))\n"
     ]
    },
    {
     "data": {
      "image/png": "[encoded data removed]",
      "text/plain": [
       "<Figure size 450x400 with 2 Axes>"
      ]
     },
     "metadata": {},
     "output_type": "display_data"
    }
   ],
   "source": [
    "url = 'https://storage.googleapis.com/download.tensorflow.org/data/creditcard.csv'\n",
    "credit = pd.read_csv(url)\n",
    "\n",
    "X = credit.drop(columns=['Class'])\n",
    "y = credit['Class']\n",
    "\n",
    "X_train, X_test, y_train, y_test = train_test_split(X, y, test_size=0.2, stratify=y, random_state=42)\n",
    "\n",
    "models = {\n",
    "    \"Random Forest\": RandomForestClassifier(n_estimators=100, random_state=42),\n",
    "    \"XGBoost\": XGBClassifier(use_label_encoder=False, eval_metric='logloss', random_state=42),\n",
    "    \"KNN\": KNeighborsClassifier(n_neighbors=5),\n",
    "    \"SVM\": SVC(probability=True, random_state=42)\n",
    "}\n",
    "\n",
    "for name, model in models.items():\n",
    "    print(f\"\\n🔍 Model: {name}\")\n",
    "    model.fit(X_train, y_train)\n",
    "    y_pred = model.predict(X_test)\n",
    "    y_pred_proba = model.predict_proba(X_test)[:, 1]\n",
    "\n",
    "    acc = accuracy_score(y_test, y_pred)\n",
    "    prec = precision_score(y_test, y_pred)\n",
    "    recall = recall_score(y_test, y_pred)\n",
    "    roc_auc = roc_auc_score(y_test, y_pred_proba)\n",
    "    conf_matrix = confusion_matrix(y_test, y_pred)\n",
    "\n",
    "    print(f\"Accuracy : {acc:.4f}\")\n",
    "    print(f\"Precision: {prec:.4f}\")\n",
    "    print(f\"Recall   : {recall:.4f}\")\n",
    "    print(f\"ROC-AUC  : {roc_auc:.4f}\")\n",
    "\n",
    "    plt.figure(figsize=(4.5, 4))\n",
    "    sns.heatmap(conf_matrix, annot=True, fmt=\"d\", cmap=\"Blues\", xticklabels=[\"Normal\", \"Fraud\"], yticklabels=[\"Normal\", \"Fraud\"])\n",
    "    plt.xlabel(\"Tahmin\")\n",
    "    plt.ylabel(\"Gerçek\")\n",
    "    plt.title(f\"Confusion Matrix - {name}\")\n",
    "    plt.tight_layout()\n",
    "    plt.show()"
   ]
  },
  {
   "cell_type": "markdown",
   "id": "9a1aa6fd",
   "metadata": {},
   "source": [
    "Bu modeller arasında en doğru sonucu Random Forest ve XGBoost modelleri verdi. SVM modeli tamamına Normal işlem, K-NN modeli ise neredeyse tamamına yakınına Normal işlem dedi. Bu yüzden de Precision ve Recall değerleri 0 ve 0'a çok yakın çıktı. Random Forest ile XGBoost ise Regresyon modellerine göre daha iyi sonuçlar verdi. \n",
    "Açıkçası Lecture 9'dan Random Forest ve XGBoost modellerini araştırdığımda böyle bir sonuç bekliyordum. Temel mantıkları bu veri setine uyuyor gibi gelmişti bana. Beklediğim gibi de bir sonuç çıktı. Bu iki model tam anlamıyla olmasa da sorunumuzu çözdü diyebiliriz."
   ]
  }
 ],
 "metadata": {
  "kernelspec": {
   "display_name": "Python 3 (ipykernel)",
   "language": "python",
   "name": "python3"
  },
  "language_info": {
   "codemirror_mode": {
    "name": "ipython",
    "version": 3
   },
   "file_extension": ".py",
   "mimetype": "text/x-python",
   "name": "python",
   "nbconvert_exporter": "python",
   "pygments_lexer": "ipython3",
   "version": "3.11.6"
  }
 },
 "nbformat": 4,
 "nbformat_minor": 5
}
